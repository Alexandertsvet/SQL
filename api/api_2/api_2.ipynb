{
 "cells": [
  {
   "cell_type": "code",
   "execution_count": 326,
   "metadata": {},
   "outputs": [],
   "source": [
    "import requests\n",
    "from urllib.parse import urlparse\n",
    "import json\n",
    "import re\n",
    "import os\n",
    "import pandas as pd\n",
    "from bs4 import BeautifulSoup\n",
    "from fake_useragent import UserAgent\n",
    "from tqdm import tqdm"
   ]
  },
  {
   "cell_type": "code",
   "execution_count": 328,
   "metadata": {},
   "outputs": [],
   "source": [
    "url = 'https://books.toscrape.com/'\n",
    "user = UserAgent()\n",
    "headers = {\n",
    "    \"User-Agent\":user.random,\n",
    "}\n",
    "params = {}\n",
    "session = requests.session()\n",
    "response = session.get(url=url, params=params, headers=headers)"
   ]
  },
  {
   "cell_type": "code",
   "execution_count": 329,
   "metadata": {},
   "outputs": [],
   "source": [
    "def get_categories_from_response(response):\n",
    "    if response.status_code == 200:\n",
    "        soup = BeautifulSoup(response.text, features='html.parser')\n",
    "    else:\n",
    "        print(response.status_code)\n",
    "    url_categories = []\n",
    "    result = soup.find_all(name=\"a\", attrs={\"href\":re.compile(\"^catalogue/category/books/\")})\n",
    "    for i in result:\n",
    "        url_categories.append(i.get(\"href\"))\n",
    "    url_categories_links = []\n",
    "    for i in url_categories:\n",
    "        url_categories_links.append(f'{url}{i}')\n",
    "    return url_categories_links"
   ]
  },
  {
   "cell_type": "code",
   "execution_count": 330,
   "metadata": {},
   "outputs": [],
   "source": [
    "url_categories_links = get_categories_from_response(response)"
   ]
  },
  {
   "cell_type": "code",
   "execution_count": 331,
   "metadata": {},
   "outputs": [],
   "source": [
    "def get_url_from_row(url):\n",
    "    result = []\n",
    "    response = session.get(url=url, params=params, headers=headers)\n",
    "    soup = BeautifulSoup(response.text, features='html.parser')\n",
    "    data_page_article = soup.find(name=\"ol\", attrs={\"class\":\"row\"}).find_all(name=\"h3\")\n",
    "    for card in data_page_article:\n",
    "        result.append(\"/\".join(url.split(\"/\")[:4]+(card.find(\"a\").get('href')).split(\"/\")[-2:]))\n",
    "    return result"
   ]
  },
  {
   "cell_type": "code",
   "execution_count": 332,
   "metadata": {},
   "outputs": [],
   "source": [
    "def urls_from_paginator(urls):\n",
    "        url_from_paginator = []\n",
    "        for url in tqdm(urls):\n",
    "                while url != None:\n",
    "                        response = session.get(url=url, params=params, headers=headers)\n",
    "                        soup = BeautifulSoup(response.text, features='html.parser')\n",
    "                        if soup.find(name=\"li\", attrs={\"class\":\"next\"}) is not None:\n",
    "                                next_lin=\"/\".join(url.split(\"/\")[:-1]+[soup.find(name=\"li\", attrs={\"class\":\"next\"}).findChild(\"a\").get(\"href\")])\n",
    "                                url_from_paginator.append(next_lin)\n",
    "                                url = next_lin\n",
    "                        else:\n",
    "                                url = None\n",
    "        result = url_from_paginator\n",
    "        return result"
   ]
  },
  {
   "cell_type": "code",
   "execution_count": null,
   "metadata": {},
   "outputs": [],
   "source": []
  },
  {
   "cell_type": "code",
   "execution_count": 333,
   "metadata": {},
   "outputs": [],
   "source": [
    "def all_books_links(urls):\n",
    "    finall_all_links = []\n",
    "    for url in tqdm(url_categories_links):\n",
    "        link_from_row = get_url_from_row(url)\n",
    "        finall_all_links.extend(link_from_row)\n",
    "        link_from_paginator = url_from_paginator(url)\n",
    "        if link_from_paginator:\n",
    "            for link_paginator in link_from_paginator:\n",
    "                link_from_row_pag = get_url_from_row(link_paginator)\n",
    "                finall_all_links.extend(link_from_row_pag)\n",
    "    return finall_all_links\n"
   ]
  },
  {
   "cell_type": "code",
   "execution_count": 334,
   "metadata": {},
   "outputs": [
    {
     "name": "stderr",
     "output_type": "stream",
     "text": [
      "100%|██████████| 50/50 [01:02<00:00,  1.25s/it]\n"
     ]
    }
   ],
   "source": [
    "boks_links = all_books_links(url_categories_links)"
   ]
  },
  {
   "cell_type": "code",
   "execution_count": 335,
   "metadata": {},
   "outputs": [],
   "source": [
    "columns = ['name','price', 'count', 'description']\n",
    "result_data = pd.DataFrame(columns = columns)"
   ]
  },
  {
   "cell_type": "code",
   "execution_count": 339,
   "metadata": {},
   "outputs": [],
   "source": [
    "def data_extraxt(url):\n",
    "    result = {}\n",
    "    response = session.get(url=url, params=params, headers=headers)\n",
    "    if response.status_code == 200:\n",
    "        soup = BeautifulSoup(response.text, features='html.parser')\n",
    "    else:\n",
    "        print(response.status_code)\n",
    "\n",
    "    card = soup.find(name=\"div\", attrs={\"class\":\"product_main\"})\n",
    "    if card:\n",
    "        result['name'] = card.find(name=\"h1\").text\n",
    "        price = card.find(name=\"p\", attrs={\"class\":\"price_color\"}).text\n",
    "        result['price'] = float(price[2:])\n",
    "        count = card.find(name=\"p\", attrs={\"class\":\"instock availability\"}).text\n",
    "        pattern = r'(\\d{1,9})'\n",
    "        count = int(re.search(pattern,count).group())\n",
    "        result['count'] = count\n",
    "    descriptions = soup.find(name=\"article\", attrs={\"class\":\"product_page\"}).find(name=\"p\", attrs={'class': False, 'id': False})\n",
    "    if descriptions:\n",
    "        result['description'] = descriptions.text\n",
    "    return result\n",
    "    \n",
    "    \n",
    "    "
   ]
  },
  {
   "cell_type": "code",
   "execution_count": 341,
   "metadata": {},
   "outputs": [
    {
     "name": "stderr",
     "output_type": "stream",
     "text": [
      "100%|██████████| 1117/1117 [03:54<00:00,  4.76it/s]\n"
     ]
    }
   ],
   "source": [
    "for index, link in enumerate(tqdm(boks_links)):\n",
    "    data_page = data_extraxt(link)\n",
    "    result_data.loc[index] = data_page.get('name'), data_page.get('price'), data_page.get('count'), data_page.get('description')\n",
    "   "
   ]
  },
  {
   "cell_type": "code",
   "execution_count": 343,
   "metadata": {},
   "outputs": [
    {
     "data": {
      "text/html": [
       "<div>\n",
       "<style scoped>\n",
       "    .dataframe tbody tr th:only-of-type {\n",
       "        vertical-align: middle;\n",
       "    }\n",
       "\n",
       "    .dataframe tbody tr th {\n",
       "        vertical-align: top;\n",
       "    }\n",
       "\n",
       "    .dataframe thead th {\n",
       "        text-align: right;\n",
       "    }\n",
       "</style>\n",
       "<table border=\"1\" class=\"dataframe\">\n",
       "  <thead>\n",
       "    <tr style=\"text-align: right;\">\n",
       "      <th></th>\n",
       "      <th>name</th>\n",
       "      <th>price</th>\n",
       "      <th>count</th>\n",
       "      <th>description</th>\n",
       "    </tr>\n",
       "  </thead>\n",
       "  <tbody>\n",
       "    <tr>\n",
       "      <th>0</th>\n",
       "      <td>It's Only the Himalayas</td>\n",
       "      <td>45.17</td>\n",
       "      <td>19</td>\n",
       "      <td>âWherever you go, whatever you do, just . . ...</td>\n",
       "    </tr>\n",
       "    <tr>\n",
       "      <th>1</th>\n",
       "      <td>Full Moon over Noahâs Ark: An Odyssey to Mou...</td>\n",
       "      <td>49.43</td>\n",
       "      <td>15</td>\n",
       "      <td>Acclaimed travel writer Rick Antonson sets his...</td>\n",
       "    </tr>\n",
       "    <tr>\n",
       "      <th>2</th>\n",
       "      <td>See America: A Celebration of Our National Par...</td>\n",
       "      <td>48.87</td>\n",
       "      <td>14</td>\n",
       "      <td>To coincide with the 2016 centennial anniversa...</td>\n",
       "    </tr>\n",
       "    <tr>\n",
       "      <th>3</th>\n",
       "      <td>Vagabonding: An Uncommon Guide to the Art of L...</td>\n",
       "      <td>36.94</td>\n",
       "      <td>8</td>\n",
       "      <td>With a new foreword by Tim Ferriss â¢Thereâ...</td>\n",
       "    </tr>\n",
       "    <tr>\n",
       "      <th>4</th>\n",
       "      <td>Under the Tuscan Sun</td>\n",
       "      <td>37.33</td>\n",
       "      <td>7</td>\n",
       "      <td>A CLASSIC FROM THE BESTSELLING AUTHOR OF UNDER...</td>\n",
       "    </tr>\n",
       "  </tbody>\n",
       "</table>\n",
       "</div>"
      ],
      "text/plain": [
       "                                                name  price  count  \\\n",
       "0                            It's Only the Himalayas  45.17     19   \n",
       "1  Full Moon over Noahâs Ark: An Odyssey to Mou...  49.43     15   \n",
       "2  See America: A Celebration of Our National Par...  48.87     14   \n",
       "3  Vagabonding: An Uncommon Guide to the Art of L...  36.94      8   \n",
       "4                               Under the Tuscan Sun  37.33      7   \n",
       "\n",
       "                                         description  \n",
       "0  âWherever you go, whatever you do, just . . ...  \n",
       "1  Acclaimed travel writer Rick Antonson sets his...  \n",
       "2  To coincide with the 2016 centennial anniversa...  \n",
       "3  With a new foreword by Tim Ferriss â¢Thereâ...  \n",
       "4  A CLASSIC FROM THE BESTSELLING AUTHOR OF UNDER...  "
      ]
     },
     "execution_count": 343,
     "metadata": {},
     "output_type": "execute_result"
    }
   ],
   "source": [
    "result_data.head()"
   ]
  },
  {
   "cell_type": "code",
   "execution_count": 344,
   "metadata": {},
   "outputs": [],
   "source": [
    "result_data.to_json('file.json', orient = 'split', compression = 'infer', index = 'true')"
   ]
  }
 ],
 "metadata": {
  "kernelspec": {
   "display_name": "Python 3",
   "language": "python",
   "name": "python3"
  },
  "language_info": {
   "codemirror_mode": {
    "name": "ipython",
    "version": 3
   },
   "file_extension": ".py",
   "mimetype": "text/x-python",
   "name": "python",
   "nbconvert_exporter": "python",
   "pygments_lexer": "ipython3",
   "version": "3.10.12"
  }
 },
 "nbformat": 4,
 "nbformat_minor": 2
}
