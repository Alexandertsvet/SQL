{
 "cells": [
  {
   "cell_type": "code",
   "execution_count": 120,
   "metadata": {},
   "outputs": [],
   "source": [
    "import requests\n",
    "from urllib.parse import urlparse\n",
    "import json\n",
    "import re\n",
    "import os\n",
    "import pandas as pd\n",
    "from bs4 import BeautifulSoup\n",
    "from fake_useragent import UserAgent\n",
    "from tqdm import tqdm"
   ]
  },
  {
   "cell_type": "code",
   "execution_count": null,
   "metadata": {},
   "outputs": [],
   "source": [
    "# Сбор ссылок по каждой категии, добавление ссылок пагинации поучение всех сылок страниц с книгами. Извлечение ссылок по каждой гниге.\n",
    "# Добавление в датасет данных. "
   ]
  },
  {
   "cell_type": "code",
   "execution_count": 121,
   "metadata": {},
   "outputs": [],
   "source": [
    "url = 'https://books.toscrape.com/'\n",
    "user = UserAgent()\n",
    "headers = {\n",
    "    \"User-Agent\":user.random,\n",
    "}\n",
    "params = {}\n",
    "session = requests.session()\n",
    "response = session.get(url=url, params=params, headers=headers)"
   ]
  },
  {
   "cell_type": "code",
   "execution_count": 122,
   "metadata": {},
   "outputs": [],
   "source": [
    "def get_categories_from_response(response):\n",
    "    if response.status_code == 200:\n",
    "        soup = BeautifulSoup(response.text, features='html.parser')\n",
    "    else:\n",
    "        print(response.status_code)\n",
    "    url_categories = []\n",
    "    result = soup.find_all(name=\"a\", attrs={\"href\":re.compile(\"^catalogue/category/books/\")})\n",
    "    for i in result:\n",
    "        url_categories.append(i.get(\"href\"))\n",
    "    url_categories_links = []\n",
    "    for i in url_categories:\n",
    "        url_categories_links.append(f'{url}{i}')\n",
    "    return url_categories_links"
   ]
  },
  {
   "cell_type": "code",
   "execution_count": 123,
   "metadata": {},
   "outputs": [],
   "source": [
    "url_categories_links = get_categories_from_response(response)"
   ]
  },
  {
   "cell_type": "code",
   "execution_count": 124,
   "metadata": {},
   "outputs": [],
   "source": [
    "def get_url_from_row(url):\n",
    "    result = []\n",
    "    response = session.get(url=url, params=params, headers=headers)\n",
    "    soup = BeautifulSoup(response.text, features='html.parser')\n",
    "    data_page_article = soup.find(name=\"ol\", attrs={\"class\":\"row\"}).find_all(name=\"h3\")\n",
    "    for card in data_page_article:\n",
    "        result.append(\"/\".join(url.split(\"/\")[:4]+(card.find(\"a\").get('href')).split(\"/\")[-2:]))\n",
    "    return result"
   ]
  },
  {
   "cell_type": "code",
   "execution_count": 125,
   "metadata": {},
   "outputs": [],
   "source": [
    "def urls_from_paginator(urls):\n",
    "        url_from_paginator = []\n",
    "        for url in tqdm(urls):\n",
    "                while url != None:\n",
    "                        response = session.get(url=url, params=params, headers=headers)\n",
    "                        soup = BeautifulSoup(response.text, features='html.parser')\n",
    "                        if soup.find(name=\"li\", attrs={\"class\":\"next\"}) is not None:\n",
    "                                next_lin=\"/\".join(url.split(\"/\")[:-1]+[soup.find(name=\"li\", attrs={\"class\":\"next\"}).findChild(\"a\").get(\"href\")])\n",
    "                                url_from_paginator.append(next_lin)\n",
    "                                url = next_lin\n",
    "                        else:\n",
    "                                url = None\n",
    "        result = url_from_paginator\n",
    "        return result"
   ]
  },
  {
   "cell_type": "code",
   "execution_count": 126,
   "metadata": {},
   "outputs": [
    {
     "name": "stderr",
     "output_type": "stream",
     "text": [
      "100%|██████████| 50/50 [00:19<00:00,  2.62it/s]\n"
     ]
    }
   ],
   "source": [
    "urls_paginator = urls_from_paginator(url_categories_links)"
   ]
  },
  {
   "cell_type": "code",
   "execution_count": 127,
   "metadata": {},
   "outputs": [
    {
     "name": "stdout",
     "output_type": "stream",
     "text": [
      "30\n",
      "50\n",
      "80\n"
     ]
    }
   ],
   "source": [
    "print(len(urls_paginator))\n",
    "print(len(url_categories_links))\n",
    "url_categories_links.extend(urls_paginator)\n",
    "print(len(url_categories_links))"
   ]
  },
  {
   "cell_type": "code",
   "execution_count": 128,
   "metadata": {},
   "outputs": [],
   "source": [
    "def all_books_links(urls):\n",
    "    finall_all_links = []\n",
    "    for url in tqdm(url_categories_links):\n",
    "        link_from_row = get_url_from_row(url)\n",
    "        finall_all_links.extend(link_from_row)\n",
    "    return finall_all_links\n"
   ]
  },
  {
   "cell_type": "code",
   "execution_count": 129,
   "metadata": {},
   "outputs": [
    {
     "name": "stderr",
     "output_type": "stream",
     "text": [
      "100%|██████████| 80/80 [00:18<00:00,  4.35it/s]\n"
     ]
    }
   ],
   "source": [
    "boks_links = all_books_links(url_categories_links)"
   ]
  },
  {
   "cell_type": "code",
   "execution_count": 130,
   "metadata": {},
   "outputs": [],
   "source": [
    "columns = ['name','price', 'count', 'description']\n",
    "result_data = pd.DataFrame(columns = columns)"
   ]
  },
  {
   "cell_type": "code",
   "execution_count": null,
   "metadata": {},
   "outputs": [],
   "source": [
    "def data_extraxt(url):\n",
    "    result = {}\n",
    "    response = session.get(url=url, params=params, headers=headers)\n",
    "    if response.status_code == 200:\n",
    "        soup = BeautifulSoup(response.text, features='html.parser')\n",
    "    else:\n",
    "        print(response.status_code)\n",
    "\n",
    "    card = soup.find(name=\"div\", attrs={\"class\":\"product_main\"})\n",
    "    if card:\n",
    "        result['name'] = card.find(name=\"h1\").text\n",
    "        price = card.find(name=\"p\", attrs={\"class\":\"price_color\"}).text\n",
    "        result['price'] = float(price[2:])\n",
    "        count = card.find(name=\"p\", attrs={\"class\":\"instock availability\"}).text\n",
    "        pattern = r'(\\d{1,9})'\n",
    "        count = int(re.search(pattern,count).group())\n",
    "        result['count'] = count\n",
    "    descriptions = soup.find(name=\"article\", attrs={\"class\":\"product_page\"}).find(name=\"p\", attrs={'class': False, 'id': False})\n",
    "    if descriptions:\n",
    "        result['description'] = descriptions.text\n",
    "    return result"
   ]
  },
  {
   "cell_type": "code",
   "execution_count": 132,
   "metadata": {},
   "outputs": [
    {
     "name": "stderr",
     "output_type": "stream",
     "text": [
      "  0%|          | 0/1000 [00:00<?, ?it/s]"
     ]
    },
    {
     "name": "stderr",
     "output_type": "stream",
     "text": [
      "100%|██████████| 1000/1000 [02:37<00:00,  6.36it/s]\n"
     ]
    }
   ],
   "source": [
    "for index, link in enumerate(tqdm(boks_links)):\n",
    "    data_page = data_extraxt(link)\n",
    "    result_data.loc[index] = data_page.get('name'), data_page.get('price'), data_page.get('count'), data_page.get('description')\n",
    "   "
   ]
  },
  {
   "cell_type": "code",
   "execution_count": 133,
   "metadata": {},
   "outputs": [
    {
     "data": {
      "text/html": [
       "<div>\n",
       "<style scoped>\n",
       "    .dataframe tbody tr th:only-of-type {\n",
       "        vertical-align: middle;\n",
       "    }\n",
       "\n",
       "    .dataframe tbody tr th {\n",
       "        vertical-align: top;\n",
       "    }\n",
       "\n",
       "    .dataframe thead th {\n",
       "        text-align: right;\n",
       "    }\n",
       "</style>\n",
       "<table border=\"1\" class=\"dataframe\">\n",
       "  <thead>\n",
       "    <tr style=\"text-align: right;\">\n",
       "      <th></th>\n",
       "      <th>name</th>\n",
       "      <th>price</th>\n",
       "      <th>count</th>\n",
       "      <th>description</th>\n",
       "    </tr>\n",
       "  </thead>\n",
       "  <tbody>\n",
       "    <tr>\n",
       "      <th>0</th>\n",
       "      <td>It's Only the Himalayas</td>\n",
       "      <td>45.17</td>\n",
       "      <td>19</td>\n",
       "      <td>âWherever you go, whatever you do, just . . ...</td>\n",
       "    </tr>\n",
       "    <tr>\n",
       "      <th>1</th>\n",
       "      <td>Full Moon over Noahâs Ark: An Odyssey to Mou...</td>\n",
       "      <td>49.43</td>\n",
       "      <td>15</td>\n",
       "      <td>Acclaimed travel writer Rick Antonson sets his...</td>\n",
       "    </tr>\n",
       "    <tr>\n",
       "      <th>2</th>\n",
       "      <td>See America: A Celebration of Our National Par...</td>\n",
       "      <td>48.87</td>\n",
       "      <td>14</td>\n",
       "      <td>To coincide with the 2016 centennial anniversa...</td>\n",
       "    </tr>\n",
       "    <tr>\n",
       "      <th>3</th>\n",
       "      <td>Vagabonding: An Uncommon Guide to the Art of L...</td>\n",
       "      <td>36.94</td>\n",
       "      <td>8</td>\n",
       "      <td>With a new foreword by Tim Ferriss â¢Thereâ...</td>\n",
       "    </tr>\n",
       "    <tr>\n",
       "      <th>4</th>\n",
       "      <td>Under the Tuscan Sun</td>\n",
       "      <td>37.33</td>\n",
       "      <td>7</td>\n",
       "      <td>A CLASSIC FROM THE BESTSELLING AUTHOR OF UNDER...</td>\n",
       "    </tr>\n",
       "  </tbody>\n",
       "</table>\n",
       "</div>"
      ],
      "text/plain": [
       "                                                name  price  count  \\\n",
       "0                            It's Only the Himalayas  45.17     19   \n",
       "1  Full Moon over Noahâs Ark: An Odyssey to Mou...  49.43     15   \n",
       "2  See America: A Celebration of Our National Par...  48.87     14   \n",
       "3  Vagabonding: An Uncommon Guide to the Art of L...  36.94      8   \n",
       "4                               Under the Tuscan Sun  37.33      7   \n",
       "\n",
       "                                         description  \n",
       "0  âWherever you go, whatever you do, just . . ...  \n",
       "1  Acclaimed travel writer Rick Antonson sets his...  \n",
       "2  To coincide with the 2016 centennial anniversa...  \n",
       "3  With a new foreword by Tim Ferriss â¢Thereâ...  \n",
       "4  A CLASSIC FROM THE BESTSELLING AUTHOR OF UNDER...  "
      ]
     },
     "execution_count": 133,
     "metadata": {},
     "output_type": "execute_result"
    }
   ],
   "source": [
    "result_data.head()"
   ]
  },
  {
   "cell_type": "code",
   "execution_count": 134,
   "metadata": {},
   "outputs": [],
   "source": [
    "result_data.to_json('file.json', orient = 'split', compression = 'infer', index = 'true')"
   ]
  },
  {
   "cell_type": "code",
   "execution_count": 136,
   "metadata": {},
   "outputs": [
    {
     "name": "stdout",
     "output_type": "stream",
     "text": [
      "<class 'pandas.core.frame.DataFrame'>\n",
      "Index: 1000 entries, 0 to 999\n",
      "Data columns (total 4 columns):\n",
      " #   Column       Non-Null Count  Dtype  \n",
      "---  ------       --------------  -----  \n",
      " 0   name         1000 non-null   object \n",
      " 1   price        1000 non-null   float64\n",
      " 2   count        1000 non-null   int64  \n",
      " 3   description  998 non-null    object \n",
      "dtypes: float64(1), int64(1), object(2)\n",
      "memory usage: 71.4+ KB\n"
     ]
    }
   ],
   "source": [
    "result_data.info()"
   ]
  },
  {
   "cell_type": "code",
   "execution_count": 145,
   "metadata": {},
   "outputs": [
    {
     "data": {
      "text/html": [
       "<div>\n",
       "<style scoped>\n",
       "    .dataframe tbody tr th:only-of-type {\n",
       "        vertical-align: middle;\n",
       "    }\n",
       "\n",
       "    .dataframe tbody tr th {\n",
       "        vertical-align: top;\n",
       "    }\n",
       "\n",
       "    .dataframe thead th {\n",
       "        text-align: right;\n",
       "    }\n",
       "</style>\n",
       "<table border=\"1\" class=\"dataframe\">\n",
       "  <thead>\n",
       "    <tr style=\"text-align: right;\">\n",
       "      <th></th>\n",
       "      <th>price</th>\n",
       "      <th>count</th>\n",
       "    </tr>\n",
       "  </thead>\n",
       "  <tbody>\n",
       "    <tr>\n",
       "      <th>count</th>\n",
       "      <td>1000.00000</td>\n",
       "      <td>1000.000000</td>\n",
       "    </tr>\n",
       "    <tr>\n",
       "      <th>mean</th>\n",
       "      <td>35.07035</td>\n",
       "      <td>8.585000</td>\n",
       "    </tr>\n",
       "    <tr>\n",
       "      <th>std</th>\n",
       "      <td>14.44669</td>\n",
       "      <td>5.654622</td>\n",
       "    </tr>\n",
       "    <tr>\n",
       "      <th>min</th>\n",
       "      <td>10.00000</td>\n",
       "      <td>1.000000</td>\n",
       "    </tr>\n",
       "    <tr>\n",
       "      <th>25%</th>\n",
       "      <td>22.10750</td>\n",
       "      <td>3.000000</td>\n",
       "    </tr>\n",
       "    <tr>\n",
       "      <th>50%</th>\n",
       "      <td>35.98000</td>\n",
       "      <td>7.000000</td>\n",
       "    </tr>\n",
       "    <tr>\n",
       "      <th>75%</th>\n",
       "      <td>47.45750</td>\n",
       "      <td>14.000000</td>\n",
       "    </tr>\n",
       "    <tr>\n",
       "      <th>max</th>\n",
       "      <td>59.99000</td>\n",
       "      <td>22.000000</td>\n",
       "    </tr>\n",
       "  </tbody>\n",
       "</table>\n",
       "</div>"
      ],
      "text/plain": [
       "            price        count\n",
       "count  1000.00000  1000.000000\n",
       "mean     35.07035     8.585000\n",
       "std      14.44669     5.654622\n",
       "min      10.00000     1.000000\n",
       "25%      22.10750     3.000000\n",
       "50%      35.98000     7.000000\n",
       "75%      47.45750    14.000000\n",
       "max      59.99000    22.000000"
      ]
     },
     "execution_count": 145,
     "metadata": {},
     "output_type": "execute_result"
    }
   ],
   "source": [
    "result_data.describe()"
   ]
  },
  {
   "cell_type": "code",
   "execution_count": 142,
   "metadata": {},
   "outputs": [
    {
     "data": {
      "text/plain": [
       "name           0\n",
       "price          0\n",
       "count          0\n",
       "description    2\n",
       "dtype: int64"
      ]
     },
     "execution_count": 142,
     "metadata": {},
     "output_type": "execute_result"
    }
   ],
   "source": [
    "result_data.isna().sum()"
   ]
  },
  {
   "cell_type": "code",
   "execution_count": 150,
   "metadata": {},
   "outputs": [
    {
     "data": {
      "text/html": [
       "<div>\n",
       "<style scoped>\n",
       "    .dataframe tbody tr th:only-of-type {\n",
       "        vertical-align: middle;\n",
       "    }\n",
       "\n",
       "    .dataframe tbody tr th {\n",
       "        vertical-align: top;\n",
       "    }\n",
       "\n",
       "    .dataframe thead th {\n",
       "        text-align: right;\n",
       "    }\n",
       "</style>\n",
       "<table border=\"1\" class=\"dataframe\">\n",
       "  <thead>\n",
       "    <tr style=\"text-align: right;\">\n",
       "      <th></th>\n",
       "      <th>name</th>\n",
       "      <th>price</th>\n",
       "      <th>count</th>\n",
       "      <th>description</th>\n",
       "    </tr>\n",
       "  </thead>\n",
       "  <tbody>\n",
       "    <tr>\n",
       "      <th>296</th>\n",
       "      <td>The Star-Touched Queen</td>\n",
       "      <td>32.3</td>\n",
       "      <td>12</td>\n",
       "      <td>Fate and fortune. Power and passion. What does...</td>\n",
       "    </tr>\n",
       "  </tbody>\n",
       "</table>\n",
       "</div>"
      ],
      "text/plain": [
       "                       name  price  count  \\\n",
       "296  The Star-Touched Queen   32.3     12   \n",
       "\n",
       "                                           description  \n",
       "296  Fate and fortune. Power and passion. What does...  "
      ]
     },
     "execution_count": 150,
     "metadata": {},
     "output_type": "execute_result"
    }
   ],
   "source": [
    "result_data[result_data['name'].duplicated()]"
   ]
  },
  {
   "cell_type": "code",
   "execution_count": null,
   "metadata": {},
   "outputs": [
    {
     "data": {
      "text/html": [
       "<div>\n",
       "<style scoped>\n",
       "    .dataframe tbody tr th:only-of-type {\n",
       "        vertical-align: middle;\n",
       "    }\n",
       "\n",
       "    .dataframe tbody tr th {\n",
       "        vertical-align: top;\n",
       "    }\n",
       "\n",
       "    .dataframe thead th {\n",
       "        text-align: right;\n",
       "    }\n",
       "</style>\n",
       "<table border=\"1\" class=\"dataframe\">\n",
       "  <thead>\n",
       "    <tr style=\"text-align: right;\">\n",
       "      <th></th>\n",
       "      <th>name</th>\n",
       "      <th>price</th>\n",
       "      <th>count</th>\n",
       "      <th>description</th>\n",
       "    </tr>\n",
       "  </thead>\n",
       "  <tbody>\n",
       "    <tr>\n",
       "      <th>289</th>\n",
       "      <td>The Star-Touched Queen</td>\n",
       "      <td>46.02</td>\n",
       "      <td>14</td>\n",
       "      <td>Fate and fortune. Power and passion. What does...</td>\n",
       "    </tr>\n",
       "    <tr>\n",
       "      <th>296</th>\n",
       "      <td>The Star-Touched Queen</td>\n",
       "      <td>32.30</td>\n",
       "      <td>12</td>\n",
       "      <td>Fate and fortune. Power and passion. What does...</td>\n",
       "    </tr>\n",
       "  </tbody>\n",
       "</table>\n",
       "</div>"
      ],
      "text/plain": [
       "                       name  price  count  \\\n",
       "289  The Star-Touched Queen  46.02     14   \n",
       "296  The Star-Touched Queen  32.30     12   \n",
       "\n",
       "                                           description  \n",
       "289  Fate and fortune. Power and passion. What does...  \n",
       "296  Fate and fortune. Power and passion. What does...  "
      ]
     },
     "execution_count": 153,
     "metadata": {},
     "output_type": "execute_result"
    }
   ],
   "source": [
    "result_data[result_data['name']=='The Star-Touched Queen'] #разные экземпляры"
   ]
  }
 ],
 "metadata": {
  "kernelspec": {
   "display_name": "Python 3",
   "language": "python",
   "name": "python3"
  },
  "language_info": {
   "codemirror_mode": {
    "name": "ipython",
    "version": 3
   },
   "file_extension": ".py",
   "mimetype": "text/x-python",
   "name": "python",
   "nbconvert_exporter": "python",
   "pygments_lexer": "ipython3",
   "version": "3.10.12"
  }
 },
 "nbformat": 4,
 "nbformat_minor": 2
}
