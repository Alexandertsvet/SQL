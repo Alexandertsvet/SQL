{
 "cells": [
  {
   "cell_type": "code",
   "execution_count": 359,
   "metadata": {},
   "outputs": [
    {
     "data": {
      "text/plain": [
       "True"
      ]
     },
     "execution_count": 359,
     "metadata": {},
     "output_type": "execute_result"
    }
   ],
   "source": [
    "import requests\n",
    "import json\n",
    "import os\n",
    "import pandas as pd\n",
    "from dotenv import load_dotenv\n",
    "\n",
    "load_dotenv()"
   ]
  },
  {
   "cell_type": "markdown",
   "metadata": {},
   "source": [
    "# Урок 1. Основы клиент-серверного взаимодействия. Парсинг API"
   ]
  },
  {
   "cell_type": "markdown",
   "metadata": {},
   "source": [
    "Сценарий Foursquare"
   ]
  },
  {
   "cell_type": "markdown",
   "metadata": {},
   "source": [
    "Напишите сценарий на языке Python, который предложит пользователю ввести интересующую его категорию (например, кофейни, музеи, парки и т.д.)."
   ]
  },
  {
   "cell_type": "code",
   "execution_count": 314,
   "metadata": {},
   "outputs": [],
   "source": [
    "api_key = os.getenv('api_key')\n"
   ]
  },
  {
   "cell_type": "code",
   "execution_count": 360,
   "metadata": {},
   "outputs": [],
   "source": [
    "categories = '4bf58dd8d48988d196941735' # Hospital\n",
    "rating = 'rating'\n",
    "location = 'location'\n",
    "name = 'name'"
   ]
  },
  {
   "cell_type": "code",
   "execution_count": 316,
   "metadata": {},
   "outputs": [],
   "source": [
    "#url = \"https://api.foursquare.com/v3/places/search?categories=4bf58dd8d48988d196941735&fields=name%2Clocation%2Crating\"\n",
    "\n",
    "url = \"https://api.foursquare.com/v3/places/search?categories=\"+categories+\"&fields=\"+location+\"%2C\"+rating+\"%2C\"+name\n",
    "headers = {\n",
    "    \"accept\": \"application/json\",\n",
    "    \"Authorization\": api_key\n",
    "}\n",
    "response = requests.get(url, headers=headers)\n",
    "if response.status_code == 200:\n",
    "    data = json.loads(response.text)\n",
    "else:\n",
    "    print(response.status_code)"
   ]
  },
  {
   "cell_type": "code",
   "execution_count": 361,
   "metadata": {},
   "outputs": [],
   "source": [
    "columns = ['name', 'address', 'rating']\n",
    "result_data = pd.DataFrame(columns = columns)"
   ]
  },
  {
   "cell_type": "code",
   "execution_count": 365,
   "metadata": {},
   "outputs": [
    {
     "name": "stderr",
     "output_type": "stream",
     "text": [
      "/tmp/ipykernel_31136/3163330496.py:2: FutureWarning: The behavior of DataFrame concatenation with empty or all-NA entries is deprecated. In a future version, this will no longer exclude empty or all-NA columns when determining the result dtypes. To retain the old behavior, exclude the relevant entries before the concat operation.\n",
      "  result_data.loc[index] = i.get('name'),str(i.get('location')['formatted_address']),i.get('rating')\n"
     ]
    }
   ],
   "source": [
    "for index, i in enumerate(data['results']):\n",
    "    result_data.loc[index] = i.get('name'),str(i.get('location')['formatted_address']),i.get('rating')\n",
    "   "
   ]
  },
  {
   "cell_type": "code",
   "execution_count": 366,
   "metadata": {},
   "outputs": [
    {
     "data": {
      "text/html": [
       "<div>\n",
       "<style scoped>\n",
       "    .dataframe tbody tr th:only-of-type {\n",
       "        vertical-align: middle;\n",
       "    }\n",
       "\n",
       "    .dataframe tbody tr th {\n",
       "        vertical-align: top;\n",
       "    }\n",
       "\n",
       "    .dataframe thead th {\n",
       "        text-align: right;\n",
       "    }\n",
       "</style>\n",
       "<table border=\"1\" class=\"dataframe\">\n",
       "  <thead>\n",
       "    <tr style=\"text-align: right;\">\n",
       "      <th></th>\n",
       "      <th>name</th>\n",
       "      <th>address</th>\n",
       "      <th>rating</th>\n",
       "    </tr>\n",
       "  </thead>\n",
       "  <tbody>\n",
       "    <tr>\n",
       "      <th>0</th>\n",
       "      <td>Клиника неврозов</td>\n",
       "      <td>Донская Ул., д.43, 115419, Москва</td>\n",
       "      <td>7.8</td>\n",
       "    </tr>\n",
       "    <tr>\n",
       "      <th>1</th>\n",
       "      <td>Институт хирургии им. А.В. Вишневского</td>\n",
       "      <td>Большая Серпуховская, 27, 115093, Москва</td>\n",
       "      <td>7.3</td>\n",
       "    </tr>\n",
       "    <tr>\n",
       "      <th>2</th>\n",
       "      <td>Центральный НИИ эпидемиологии</td>\n",
       "      <td>Новогиреевская Ул., д. 3А, 111524, Москва</td>\n",
       "      <td>7.5</td>\n",
       "    </tr>\n",
       "    <tr>\n",
       "      <th>3</th>\n",
       "      <td>Микрохирургия глаза им. академика Святослава Ф...</td>\n",
       "      <td>Бескудниковский бульв., 59А, 59А, 127486, Москва</td>\n",
       "      <td>7.0</td>\n",
       "    </tr>\n",
       "    <tr>\n",
       "      <th>4</th>\n",
       "      <td>Городская поликлиника №3</td>\n",
       "      <td>Ермолаевский пер., д. 22/26, 123001, Москва</td>\n",
       "      <td>6.4</td>\n",
       "    </tr>\n",
       "    <tr>\n",
       "      <th>5</th>\n",
       "      <td>Психиатрическая клиническая больница № 4 им. П...</td>\n",
       "      <td>Потешная Ул., д. 3, 107076, Москва</td>\n",
       "      <td>6.6</td>\n",
       "    </tr>\n",
       "    <tr>\n",
       "      <th>6</th>\n",
       "      <td>ЮГО-ЗАПАДНОГО АО ЦЕНТР ПЛАНИРОВАНИЯ СЕМЬИ И РЕ...</td>\n",
       "      <td>Севастопольский Пр., 24А, 117209, Москва</td>\n",
       "      <td>6.6</td>\n",
       "    </tr>\n",
       "    <tr>\n",
       "      <th>7</th>\n",
       "      <td>Клиническая больница N84</td>\n",
       "      <td>Абельмановская Ул., д. 4, Москва</td>\n",
       "      <td>6.0</td>\n",
       "    </tr>\n",
       "    <tr>\n",
       "      <th>8</th>\n",
       "      <td>ЗАПАДНОГО АО # 30</td>\n",
       "      <td>Поклонная Ул., д. 8, корп. 2А, 121170, Москва</td>\n",
       "      <td>5.9</td>\n",
       "    </tr>\n",
       "    <tr>\n",
       "      <th>9</th>\n",
       "      <td>Министерство Финансов рф Департамент Управлени...</td>\n",
       "      <td>Ильинка Ул., д. 9, 109097, Москва</td>\n",
       "      <td>NaN</td>\n",
       "    </tr>\n",
       "  </tbody>\n",
       "</table>\n",
       "</div>"
      ],
      "text/plain": [
       "                                                name  \\\n",
       "0                                   Клиника неврозов   \n",
       "1             Институт хирургии им. А.В. Вишневского   \n",
       "2                      Центральный НИИ эпидемиологии   \n",
       "3  Микрохирургия глаза им. академика Святослава Ф...   \n",
       "4                           Городская поликлиника №3   \n",
       "5  Психиатрическая клиническая больница № 4 им. П...   \n",
       "6  ЮГО-ЗАПАДНОГО АО ЦЕНТР ПЛАНИРОВАНИЯ СЕМЬИ И РЕ...   \n",
       "7                           Клиническая больница N84   \n",
       "8                                  ЗАПАДНОГО АО # 30   \n",
       "9  Министерство Финансов рф Департамент Управлени...   \n",
       "\n",
       "                                            address  rating  \n",
       "0                 Донская Ул., д.43, 115419, Москва     7.8  \n",
       "1          Большая Серпуховская, 27, 115093, Москва     7.3  \n",
       "2         Новогиреевская Ул., д. 3А, 111524, Москва     7.5  \n",
       "3  Бескудниковский бульв., 59А, 59А, 127486, Москва     7.0  \n",
       "4       Ермолаевский пер., д. 22/26, 123001, Москва     6.4  \n",
       "5                Потешная Ул., д. 3, 107076, Москва     6.6  \n",
       "6          Севастопольский Пр., 24А, 117209, Москва     6.6  \n",
       "7                  Абельмановская Ул., д. 4, Москва     6.0  \n",
       "8     Поклонная Ул., д. 8, корп. 2А, 121170, Москва     5.9  \n",
       "9                 Ильинка Ул., д. 9, 109097, Москва     NaN  "
      ]
     },
     "execution_count": 366,
     "metadata": {},
     "output_type": "execute_result"
    }
   ],
   "source": [
    "result_data"
   ]
  },
  {
   "cell_type": "code",
   "execution_count": 367,
   "metadata": {},
   "outputs": [
    {
     "data": {
      "text/plain": [
       "{'next': {'url': 'https://api.foursquare.com/v3/places/search?cursor=c3I6MTA&categories=4bf58dd8d48988d196941735&fields=location%2Crating%2Cname',\n",
       "  'rel': 'next'}}"
      ]
     },
     "execution_count": 367,
     "metadata": {},
     "output_type": "execute_result"
    }
   ],
   "source": [
    "response.links"
   ]
  }
 ],
 "metadata": {
  "kernelspec": {
   "display_name": "Python 3",
   "language": "python",
   "name": "python3"
  },
  "language_info": {
   "codemirror_mode": {
    "name": "ipython",
    "version": 3
   },
   "file_extension": ".py",
   "mimetype": "text/x-python",
   "name": "python",
   "nbconvert_exporter": "python",
   "pygments_lexer": "ipython3",
   "version": "3.10.12"
  }
 },
 "nbformat": 4,
 "nbformat_minor": 2
}
