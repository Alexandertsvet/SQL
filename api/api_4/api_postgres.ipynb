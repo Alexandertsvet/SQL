{
 "cells": [
  {
   "cell_type": "markdown",
   "metadata": {},
   "source": [
    "# create database for user\n",
    "\n",
    "cp /tmp\n",
    "\n",
    "sudo su postgres \n",
    "\n",
    "createdb name_db\n",
    "\n",
    "psql -d name_db\n",
    "\n",
    "CREATE USER user WITH ENCRYPTED PASSWORD 'user_password';\n",
    "GRANT ALL PRIVILEGES ON DATABASE name_db TO user; \n",
    "\n",
    "\n",
    "# Example .env\n",
    "api_key = 'yuor_api_key'\n",
    "POSTGRES_USER=test # user\n",
    "POSTGRES_PASSWORD=test # user_password\n",
    "POSTGRES_DB=test # name_db\n",
    "DB_PORT=5432 or 5433\n",
    "DB_HOST=127.0.0.1"
   ]
  }
 ],
 "metadata": {
  "language_info": {
   "name": "python"
  }
 },
 "nbformat": 4,
 "nbformat_minor": 2
}
