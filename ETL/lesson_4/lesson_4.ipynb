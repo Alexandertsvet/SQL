{
 "cells": [
  {
   "cell_type": "code",
   "execution_count": 103,
   "metadata": {},
   "outputs": [
    {
     "data": {
      "text/plain": [
       "True"
      ]
     },
     "execution_count": 103,
     "metadata": {},
     "output_type": "execute_result"
    }
   ],
   "source": [
    "import os\n",
    "import psycopg2\n",
    "from dotenv import load_dotenv\n",
    "load_dotenv()"
   ]
  },
  {
   "cell_type": "code",
   "execution_count": 104,
   "metadata": {},
   "outputs": [],
   "source": [
    "dbname = os.getenv('POSTGRES_DB')\n",
    "user = os.getenv('POSTGRES_USER')\n",
    "password = os.getenv('POSTGRES_PASSWORD')\n",
    "db_host = os.getenv('DB_HOST')\n",
    "db_post = os.getenv('DB_PORT')\n",
    "try:\n",
    "    # пытаемся подключиться к базе данных\n",
    "    conn = psycopg2.connect(dbname=dbname, user=user, password=password, host=db_host, port=db_post)\n",
    "except:\n",
    "    # в случае сбоя подключения будет выведено сообщение в STDOUT\n",
    "    print('Can`t establish connection to database')"
   ]
  },
  {
   "cell_type": "code",
   "execution_count": 105,
   "metadata": {},
   "outputs": [],
   "source": [
    "cursor = conn.cursor()\n",
    "conn.autocommit = True"
   ]
  },
  {
   "cell_type": "markdown",
   "metadata": {},
   "source": [
    "# 1. Создайте таблицу movies с полями movies_type, director, year_of_issue, length_in_minutes, rate."
   ]
  },
  {
   "cell_type": "code",
   "execution_count": 106,
   "metadata": {},
   "outputs": [],
   "source": [
    "sql = '''\n",
    "CREATE TABLE IF NOT EXISTS movies(\n",
    "id bigint not null,\n",
    "movies_type int not null,\n",
    "director VARCHAR(50),\n",
    "year_of_issue DATE NOT NULL,\n",
    "length_in_minutes numeric NOT NULL,\n",
    "rate int not null\n",
    ")'''\n",
    "cursor.execute(sql)\n",
    "conn.commit()"
   ]
  },
  {
   "cell_type": "code",
   "execution_count": 107,
   "metadata": {},
   "outputs": [
    {
     "data": {
      "text/plain": [
       "[]"
      ]
     },
     "execution_count": 107,
     "metadata": {},
     "output_type": "execute_result"
    }
   ],
   "source": [
    "cursor.execute(\"SELECT * from movies;\")\n",
    "cursor.fetchall()"
   ]
  },
  {
   "cell_type": "markdown",
   "metadata": {},
   "source": [
    "# 2 Сделайте таблицы для горизонтального партицирования по году выпуска (до 1990, 1990 -2000, 2000- 2010, 2010-2020, после 2020)."
   ]
  },
  {
   "cell_type": "code",
   "execution_count": 108,
   "metadata": {},
   "outputs": [],
   "source": [
    "cursor.execute(\"CREATE TABLE IF NOT EXISTS year_1990 (CHECK (EXTRACT(YEAR FROM year_of_issue)<1990)) INHERITS (movies);\")\n",
    "cursor.execute(\"CREATE TABLE IF NOT EXISTS year_1990_2000 (CHECK (EXTRACT(YEAR FROM year_of_issue)>=1990 AND EXTRACT(YEAR FROM year_of_issue)<2000)) INHERITS (movies);\")\n",
    "cursor.execute(\"CREATE TABLE IF NOT EXISTS year_2000_2010 (CHECK (EXTRACT(YEAR FROM year_of_issue)>=2000 AND EXTRACT(YEAR FROM year_of_issue)<2010)) INHERITS (movies);\")\n",
    "cursor.execute(\"CREATE TABLE IF NOT EXISTS year_2010_2020 (CHECK (EXTRACT(YEAR FROM year_of_issue)>=2010 AND EXTRACT(YEAR FROM year_of_issue)<2020)) INHERITS (movies);\")\n",
    "cursor.execute(\"CREATE TABLE IF NOT EXISTS year_2020 (CHECK (EXTRACT(YEAR FROM year_of_issue)>=2020)) INHERITS (movies);\")\n",
    "conn.commit()"
   ]
  },
  {
   "cell_type": "code",
   "execution_count": 109,
   "metadata": {},
   "outputs": [],
   "source": [
    "cursor.execute(\"CREATE RULE year_1990_r AS ON INSERT TO movies WHERE (EXTRACT(YEAR FROM year_of_issue)<1990) DO INSTEAD INSERT INTO year_1990 VALUES (NEW.*);\")\n",
    "cursor.execute(\"CREATE RULE year_1990_2000_r AS ON INSERT TO movies WHERE (EXTRACT(YEAR FROM year_of_issue)>=1990 AND EXTRACT(YEAR FROM year_of_issue)<2000) DO INSTEAD INSERT INTO year_1990_2000 VALUES (NEW.*);\")\n",
    "cursor.execute(\"CREATE RULE year_2000_2010_r AS ON INSERT TO movies WHERE (EXTRACT(YEAR FROM year_of_issue)>=2000 AND EXTRACT(YEAR FROM year_of_issue)<2010) DO INSTEAD INSERT INTO year_2000_2010 VALUES (NEW.*);\")\n",
    "cursor.execute(\"CREATE RULE year_2010_2020_r AS ON INSERT TO movies WHERE (EXTRACT(YEAR FROM year_of_issue)>=2010 AND EXTRACT(YEAR FROM year_of_issue)<2020) DO INSTEAD INSERT INTO year_2010_2020 VALUES (NEW.*);\")\n",
    "cursor.execute(\"CREATE RULE year_2020_r AS ON INSERT TO movies WHERE (EXTRACT(YEAR FROM year_of_issue)>=2020) DO INSTEAD INSERT INTO year_2020 VALUES (NEW.*);\")\n",
    "conn.commit()"
   ]
  },
  {
   "cell_type": "markdown",
   "metadata": {},
   "source": [
    "# 3  Сделайте таблицы для горизонтального партицирования по длине фильма (до 40 минута, от 40 до 90 минут, от 90 до 130 минут, более 130 минут)."
   ]
  },
  {
   "cell_type": "code",
   "execution_count": 110,
   "metadata": {},
   "outputs": [],
   "source": [
    "cursor.execute(\"CREATE TABLE IF NOT EXISTS length_in_minutes_40 (CHECK (length_in_minutes<40)) INHERITS (movies);\")\n",
    "cursor.execute(\"CREATE TABLE IF NOT EXISTS length_in_minutes_40_90 (CHECK (length_in_minutes>=40 AND length_in_minutes<90)) INHERITS (movies);\")\n",
    "cursor.execute(\"CREATE TABLE IF NOT EXISTS length_in_minutes_90_40 (CHECK (length_in_minutes>=90 AND length_in_minutes<130)) INHERITS (movies);\")\n",
    "cursor.execute(\"CREATE TABLE IF NOT EXISTS length_in_minutes_130 (CHECK (length_in_minutes>=130)) INHERITS (movies);\")\n",
    "conn.commit()"
   ]
  },
  {
   "cell_type": "code",
   "execution_count": 111,
   "metadata": {},
   "outputs": [],
   "source": [
    "cursor.execute(\"CREATE RULE length_in_minutes_40_r AS ON INSERT TO movies WHERE (length_in_minutes<40) DO INSTEAD INSERT INTO length_in_minutes_40 VALUES (NEW.*);\")\n",
    "cursor.execute(\"CREATE RULE length_in_minutes_40_90_r AS ON INSERT TO movies WHERE (length_in_minutes>=40 AND length_in_minutes<90) DO INSTEAD INSERT INTO length_in_minutes_40_90 VALUES (NEW.*);\")\n",
    "cursor.execute(\"CREATE RULE length_in_minutes_90_40_r AS ON INSERT TO movies WHERE (length_in_minutes>=90 AND length_in_minutes<130) DO INSTEAD INSERT INTO length_in_minutes_90_40 VALUES (NEW.*);\")\n",
    "cursor.execute(\"CREATE RULE length_in_minutes_130_r AS ON INSERT TO movies WHERE (length_in_minutes>=130) DO INSTEAD INSERT INTO length_in_minutes_130 VALUES (NEW.*);\")\n",
    "conn.commit()"
   ]
  },
  {
   "cell_type": "markdown",
   "metadata": {},
   "source": [
    "# 4. Сделайте таблицы для горизонтального партицирования по рейтингу фильма (ниже 5, от 5 до 8, от 8до 10)."
   ]
  },
  {
   "cell_type": "code",
   "execution_count": 112,
   "metadata": {},
   "outputs": [],
   "source": [
    "cursor.execute(\"CREATE TABLE IF NOT EXISTS rate_5(CHECK (rate<5)) INHERITS (movies);\")\n",
    "cursor.execute(\"CREATE TABLE IF NOT EXISTS rate_5_8(CHECK (rate>=5 AND rate<8)) INHERITS (movies);\")\n",
    "cursor.execute(\"CREATE TABLE IF NOT EXISTS rate_8_10(CHECK (rate>=5 AND rate<10)) INHERITS (movies);\")\n",
    "conn.commit()"
   ]
  },
  {
   "cell_type": "code",
   "execution_count": 113,
   "metadata": {},
   "outputs": [],
   "source": [
    "cursor.execute(\"CREATE RULE rate_5_r AS ON INSERT TO movies WHERE (rate<5) DO INSTEAD INSERT INTO rate_5 VALUES (NEW.*);\")\n",
    "cursor.execute(\"CREATE RULE rate_5_8_r AS ON INSERT TO movies WHERE (rate>=5 AND rate<8) DO INSTEAD INSERT INTO rate_5_8 VALUES (NEW.*);\")\n",
    "cursor.execute(\"CREATE RULE rate_8_10_r AS ON INSERT TO movies WHERE (rate>=8 AND rate<10) DO INSTEAD INSERT INTO rate_8_10 VALUES (NEW.*);\")\n",
    "conn.commit()"
   ]
  },
  {
   "cell_type": "code",
   "execution_count": 114,
   "metadata": {},
   "outputs": [],
   "source": [
    "cursor.execute(\"INSERT INTO movies (id, movies_type, director, year_of_issue, length_in_minutes, rate) VALUES (1, 1, 'first', '1990-5-6', 90, 2)\")\n",
    "cursor.execute(\"INSERT INTO movies (id, movies_type, director, year_of_issue, length_in_minutes, rate) VALUES (2, 2, 'second', '1990-1-1', 40, 6)\")\n",
    "cursor.execute(\"INSERT INTO movies (id, movies_type, director, year_of_issue, length_in_minutes, rate) VALUES (3, 3, 'first', '2020-2-2', 100, 9)\")\n",
    "conn.commit()\n"
   ]
  },
  {
   "cell_type": "code",
   "execution_count": 120,
   "metadata": {},
   "outputs": [
    {
     "data": {
      "text/plain": [
       "[('pg_catalog', 'pg_statistic', 'postgres', None, True, False, False, False),\n",
       " ('pg_catalog', 'pg_type', 'postgres', None, True, False, False, False),\n",
       " ('public', 'year_2010_2020', 'alexandr', None, False, False, False, False),\n",
       " ('public', 'year_1990', 'alexandr', None, False, False, False, False),\n",
       " ('public', 'year_1990_2000', 'alexandr', None, False, False, False, False),\n",
       " ('public', 'year_2020', 'alexandr', None, False, False, False, False),\n",
       " ('public', 'year_2000_2010', 'alexandr', None, False, False, False, False),\n",
       " ('public', 'movies', 'alexandr', None, False, True, False, False),\n",
       " ('public',\n",
       "  'length_in_minutes_40',\n",
       "  'alexandr',\n",
       "  None,\n",
       "  False,\n",
       "  False,\n",
       "  False,\n",
       "  False),\n",
       " ('public',\n",
       "  'length_in_minutes_130',\n",
       "  'alexandr',\n",
       "  None,\n",
       "  False,\n",
       "  False,\n",
       "  False,\n",
       "  False),\n",
       " ('public',\n",
       "  'length_in_minutes_40_90',\n",
       "  'alexandr',\n",
       "  None,\n",
       "  False,\n",
       "  False,\n",
       "  False,\n",
       "  False),\n",
       " ('public', 'rate_5', 'alexandr', None, False, False, False, False),\n",
       " ('public',\n",
       "  'length_in_minutes_90_40',\n",
       "  'alexandr',\n",
       "  None,\n",
       "  False,\n",
       "  False,\n",
       "  False,\n",
       "  False),\n",
       " ('public', 'rate_5_8', 'alexandr', None, False, False, False, False),\n",
       " ('public', 'rate_8_10', 'alexandr', None, False, False, False, False),\n",
       " ('pg_catalog',\n",
       "  'pg_foreign_table',\n",
       "  'postgres',\n",
       "  None,\n",
       "  True,\n",
       "  False,\n",
       "  False,\n",
       "  False),\n",
       " ('pg_catalog',\n",
       "  'pg_authid',\n",
       "  'postgres',\n",
       "  'pg_global',\n",
       "  True,\n",
       "  False,\n",
       "  False,\n",
       "  False),\n",
       " ('pg_catalog',\n",
       "  'pg_statistic_ext_data',\n",
       "  'postgres',\n",
       "  None,\n",
       "  True,\n",
       "  False,\n",
       "  False,\n",
       "  False),\n",
       " ('pg_catalog',\n",
       "  'pg_user_mapping',\n",
       "  'postgres',\n",
       "  None,\n",
       "  True,\n",
       "  False,\n",
       "  False,\n",
       "  False),\n",
       " ('pg_catalog',\n",
       "  'pg_subscription',\n",
       "  'postgres',\n",
       "  'pg_global',\n",
       "  True,\n",
       "  False,\n",
       "  False,\n",
       "  False),\n",
       " ('pg_catalog', 'pg_attribute', 'postgres', None, True, False, False, False),\n",
       " ('pg_catalog', 'pg_proc', 'postgres', None, True, False, False, False),\n",
       " ('pg_catalog', 'pg_class', 'postgres', None, True, False, False, False),\n",
       " ('pg_catalog', 'pg_attrdef', 'postgres', None, True, False, False, False),\n",
       " ('pg_catalog', 'pg_constraint', 'postgres', None, True, False, False, False),\n",
       " ('pg_catalog', 'pg_inherits', 'postgres', None, True, False, False, False),\n",
       " ('pg_catalog', 'pg_index', 'postgres', None, True, False, False, False),\n",
       " ('pg_catalog', 'pg_operator', 'postgres', None, True, False, False, False),\n",
       " ('pg_catalog', 'pg_opfamily', 'postgres', None, True, False, False, False),\n",
       " ('pg_catalog', 'pg_opclass', 'postgres', None, True, False, False, False),\n",
       " ('pg_catalog', 'pg_am', 'postgres', None, True, False, False, False),\n",
       " ('pg_catalog', 'pg_amop', 'postgres', None, True, False, False, False),\n",
       " ('pg_catalog', 'pg_amproc', 'postgres', None, True, False, False, False),\n",
       " ('pg_catalog', 'pg_language', 'postgres', None, True, False, False, False),\n",
       " ('pg_catalog',\n",
       "  'pg_largeobject_metadata',\n",
       "  'postgres',\n",
       "  None,\n",
       "  True,\n",
       "  False,\n",
       "  False,\n",
       "  False),\n",
       " ('pg_catalog', 'pg_aggregate', 'postgres', None, True, False, False, False),\n",
       " ('pg_catalog',\n",
       "  'pg_statistic_ext',\n",
       "  'postgres',\n",
       "  None,\n",
       "  True,\n",
       "  False,\n",
       "  False,\n",
       "  False),\n",
       " ('pg_catalog', 'pg_rewrite', 'postgres', None, True, False, False, False),\n",
       " ('pg_catalog', 'pg_trigger', 'postgres', None, True, False, False, False),\n",
       " ('pg_catalog',\n",
       "  'pg_event_trigger',\n",
       "  'postgres',\n",
       "  None,\n",
       "  True,\n",
       "  False,\n",
       "  False,\n",
       "  False),\n",
       " ('pg_catalog', 'pg_description', 'postgres', None, True, False, False, False),\n",
       " ('pg_catalog', 'pg_cast', 'postgres', None, True, False, False, False),\n",
       " ('pg_catalog', 'pg_enum', 'postgres', None, True, False, False, False),\n",
       " ('pg_catalog', 'pg_namespace', 'postgres', None, True, False, False, False),\n",
       " ('pg_catalog', 'pg_conversion', 'postgres', None, True, False, False, False),\n",
       " ('pg_catalog', 'pg_depend', 'postgres', None, True, False, False, False),\n",
       " ('pg_catalog',\n",
       "  'pg_database',\n",
       "  'postgres',\n",
       "  'pg_global',\n",
       "  True,\n",
       "  False,\n",
       "  False,\n",
       "  False),\n",
       " ('pg_catalog',\n",
       "  'pg_db_role_setting',\n",
       "  'postgres',\n",
       "  'pg_global',\n",
       "  True,\n",
       "  False,\n",
       "  False,\n",
       "  False),\n",
       " ('pg_catalog',\n",
       "  'pg_tablespace',\n",
       "  'postgres',\n",
       "  'pg_global',\n",
       "  True,\n",
       "  False,\n",
       "  False,\n",
       "  False),\n",
       " ('pg_catalog',\n",
       "  'pg_auth_members',\n",
       "  'postgres',\n",
       "  'pg_global',\n",
       "  True,\n",
       "  False,\n",
       "  False,\n",
       "  False),\n",
       " ('pg_catalog',\n",
       "  'pg_shdepend',\n",
       "  'postgres',\n",
       "  'pg_global',\n",
       "  True,\n",
       "  False,\n",
       "  False,\n",
       "  False),\n",
       " ('pg_catalog',\n",
       "  'pg_shdescription',\n",
       "  'postgres',\n",
       "  'pg_global',\n",
       "  True,\n",
       "  False,\n",
       "  False,\n",
       "  False),\n",
       " ('pg_catalog', 'pg_ts_config', 'postgres', None, True, False, False, False),\n",
       " ('pg_catalog',\n",
       "  'pg_ts_config_map',\n",
       "  'postgres',\n",
       "  None,\n",
       "  True,\n",
       "  False,\n",
       "  False,\n",
       "  False),\n",
       " ('pg_catalog', 'pg_ts_dict', 'postgres', None, True, False, False, False),\n",
       " ('pg_catalog', 'pg_ts_parser', 'postgres', None, True, False, False, False),\n",
       " ('pg_catalog', 'pg_ts_template', 'postgres', None, True, False, False, False),\n",
       " ('pg_catalog', 'pg_extension', 'postgres', None, True, False, False, False),\n",
       " ('pg_catalog',\n",
       "  'pg_foreign_data_wrapper',\n",
       "  'postgres',\n",
       "  None,\n",
       "  True,\n",
       "  False,\n",
       "  False,\n",
       "  False),\n",
       " ('pg_catalog',\n",
       "  'pg_foreign_server',\n",
       "  'postgres',\n",
       "  None,\n",
       "  True,\n",
       "  False,\n",
       "  False,\n",
       "  False),\n",
       " ('pg_catalog', 'pg_policy', 'postgres', None, True, False, False, False),\n",
       " ('pg_catalog',\n",
       "  'pg_replication_origin',\n",
       "  'postgres',\n",
       "  'pg_global',\n",
       "  True,\n",
       "  False,\n",
       "  False,\n",
       "  False),\n",
       " ('pg_catalog', 'pg_default_acl', 'postgres', None, True, False, False, False),\n",
       " ('pg_catalog', 'pg_init_privs', 'postgres', None, True, False, False, False),\n",
       " ('pg_catalog', 'pg_seclabel', 'postgres', None, True, False, False, False),\n",
       " ('pg_catalog',\n",
       "  'pg_shseclabel',\n",
       "  'postgres',\n",
       "  'pg_global',\n",
       "  True,\n",
       "  False,\n",
       "  False,\n",
       "  False),\n",
       " ('pg_catalog', 'pg_collation', 'postgres', None, True, False, False, False),\n",
       " ('pg_catalog',\n",
       "  'pg_partitioned_table',\n",
       "  'postgres',\n",
       "  None,\n",
       "  True,\n",
       "  False,\n",
       "  False,\n",
       "  False),\n",
       " ('pg_catalog', 'pg_range', 'postgres', None, True, False, False, False),\n",
       " ('pg_catalog', 'pg_transform', 'postgres', None, True, False, False, False),\n",
       " ('pg_catalog', 'pg_sequence', 'postgres', None, True, False, False, False),\n",
       " ('pg_catalog', 'pg_publication', 'postgres', None, True, False, False, False),\n",
       " ('pg_catalog',\n",
       "  'pg_publication_rel',\n",
       "  'postgres',\n",
       "  None,\n",
       "  True,\n",
       "  False,\n",
       "  False,\n",
       "  False),\n",
       " ('pg_catalog',\n",
       "  'pg_subscription_rel',\n",
       "  'postgres',\n",
       "  None,\n",
       "  True,\n",
       "  False,\n",
       "  False,\n",
       "  False),\n",
       " ('pg_catalog', 'pg_largeobject', 'postgres', None, True, False, False, False),\n",
       " ('information_schema',\n",
       "  'sql_parts',\n",
       "  'postgres',\n",
       "  None,\n",
       "  False,\n",
       "  False,\n",
       "  False,\n",
       "  False),\n",
       " ('information_schema',\n",
       "  'sql_implementation_info',\n",
       "  'postgres',\n",
       "  None,\n",
       "  False,\n",
       "  False,\n",
       "  False,\n",
       "  False),\n",
       " ('information_schema',\n",
       "  'sql_features',\n",
       "  'postgres',\n",
       "  None,\n",
       "  False,\n",
       "  False,\n",
       "  False,\n",
       "  False),\n",
       " ('information_schema',\n",
       "  'sql_sizing',\n",
       "  'postgres',\n",
       "  None,\n",
       "  False,\n",
       "  False,\n",
       "  False,\n",
       "  False)]"
      ]
     },
     "execution_count": 120,
     "metadata": {},
     "output_type": "execute_result"
    }
   ],
   "source": [
    "cursor.execute(\"SELECT * FROM pg_catalog.pg_tables \")\n",
    "cursor.fetchall()"
   ]
  },
  {
   "cell_type": "code",
   "execution_count": 122,
   "metadata": {},
   "outputs": [
    {
     "data": {
      "text/plain": [
       "[(1, 1, 'first', datetime.date(1990, 5, 6), Decimal('90'), 2)]"
      ]
     },
     "execution_count": 122,
     "metadata": {},
     "output_type": "execute_result"
    }
   ],
   "source": [
    "cursor.execute(\"SELECT * FROM rate_5\")\n",
    "cursor.fetchall()"
   ]
  },
  {
   "cell_type": "code",
   "execution_count": 123,
   "metadata": {},
   "outputs": [
    {
     "data": {
      "text/plain": [
       "[(2, 2, 'second', datetime.date(1990, 1, 1), Decimal('40'), 6)]"
      ]
     },
     "execution_count": 123,
     "metadata": {},
     "output_type": "execute_result"
    }
   ],
   "source": [
    "cursor.execute(\"SELECT * FROM rate_5_8\")\n",
    "cursor.fetchall()"
   ]
  },
  {
   "cell_type": "code",
   "execution_count": 124,
   "metadata": {},
   "outputs": [
    {
     "data": {
      "text/plain": [
       "[(3, 3, 'first', datetime.date(2020, 2, 2), Decimal('100'), 9)]"
      ]
     },
     "execution_count": 124,
     "metadata": {},
     "output_type": "execute_result"
    }
   ],
   "source": [
    "cursor.execute(\"SELECT * FROM rate_8_10\")\n",
    "cursor.fetchall()"
   ]
  },
  {
   "cell_type": "code",
   "execution_count": 125,
   "metadata": {},
   "outputs": [],
   "source": [
    "cursor.execute(\"INSERT INTO movies (id, movies_type, director, year_of_issue, length_in_minutes, rate) VALUES (1, 1, 'first', '1990-5-6', 90, 50)\")\n",
    "conn.commit()"
   ]
  },
  {
   "cell_type": "code",
   "execution_count": 126,
   "metadata": {},
   "outputs": [
    {
     "data": {
      "text/plain": [
       "[(3, 3, 'first', datetime.date(2020, 2, 2), Decimal('100'), 9)]"
      ]
     },
     "execution_count": 126,
     "metadata": {},
     "output_type": "execute_result"
    }
   ],
   "source": [
    "cursor.execute(\"SELECT * FROM rate_8_10\")\n",
    "cursor.fetchall()"
   ]
  },
  {
   "cell_type": "code",
   "execution_count": 128,
   "metadata": {},
   "outputs": [
    {
     "data": {
      "text/plain": [
       "[(1, 1, 'first', datetime.date(1990, 5, 6), Decimal('90'), 50),\n",
       " (1, 1, 'first', datetime.date(1990, 5, 6), Decimal('90'), 50)]"
      ]
     },
     "execution_count": 128,
     "metadata": {},
     "output_type": "execute_result"
    }
   ],
   "source": [
    "cursor.execute(\"SELECT * FROM movies WHERE rate=50\")\n",
    "cursor.fetchall()"
   ]
  },
  {
   "cell_type": "code",
   "execution_count": 129,
   "metadata": {},
   "outputs": [],
   "source": [
    "cursor.close()\n",
    "conn.close()"
   ]
  }
 ],
 "metadata": {
  "kernelspec": {
   "display_name": "venv",
   "language": "python",
   "name": "python3"
  },
  "language_info": {
   "codemirror_mode": {
    "name": "ipython",
    "version": 3
   },
   "file_extension": ".py",
   "mimetype": "text/x-python",
   "name": "python",
   "nbconvert_exporter": "python",
   "pygments_lexer": "ipython3",
   "version": "3.10.12"
  }
 },
 "nbformat": 4,
 "nbformat_minor": 2
}
