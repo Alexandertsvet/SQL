{
 "cells": [
  {
   "cell_type": "code",
   "execution_count": 578,
   "metadata": {},
   "outputs": [],
   "source": [
    "import init_spark_env\n",
    "import pyspark\n",
    "import pandas as pd"
   ]
  },
  {
   "cell_type": "code",
   "execution_count": 579,
   "metadata": {},
   "outputs": [],
   "source": [
    "from pyspark.sql import SparkSession\n",
    "import pyspark.sql.functions as F\n",
    "from pyspark.sql.functions import col, avg, stddev, stddev_pop, isnan, lower, transform, udf, replace\n",
    "from pyspark.sql.types import IntegerType"
   ]
  },
  {
   "cell_type": "code",
   "execution_count": 580,
   "metadata": {},
   "outputs": [],
   "source": [
    "spark = SparkSession.builder.master('local').enableHiveSupport().appName('test_cli').getOrCreate()"
   ]
  },
  {
   "cell_type": "code",
   "execution_count": 581,
   "metadata": {},
   "outputs": [
    {
     "data": {
      "text/html": [
       "\n",
       "            <div>\n",
       "                <p><b>SparkSession - hive</b></p>\n",
       "                \n",
       "        <div>\n",
       "            <p><b>SparkContext</b></p>\n",
       "\n",
       "            <p><a href=\"http://172.18.141.211:4040\">Spark UI</a></p>\n",
       "\n",
       "            <dl>\n",
       "              <dt>Version</dt>\n",
       "                <dd><code>v3.5.1</code></dd>\n",
       "              <dt>Master</dt>\n",
       "                <dd><code>local</code></dd>\n",
       "              <dt>AppName</dt>\n",
       "                <dd><code>test_cli</code></dd>\n",
       "            </dl>\n",
       "        </div>\n",
       "        \n",
       "            </div>\n",
       "        "
      ],
      "text/plain": [
       "<pyspark.sql.session.SparkSession at 0x7f6960099600>"
      ]
     },
     "execution_count": 581,
     "metadata": {},
     "output_type": "execute_result"
    }
   ],
   "source": [
    "spark"
   ]
  },
  {
   "cell_type": "code",
   "execution_count": 582,
   "metadata": {},
   "outputs": [],
   "source": [
    "data = spark.read.csv('data/fifa_s2.csv')"
   ]
  },
  {
   "cell_type": "code",
   "execution_count": 583,
   "metadata": {},
   "outputs": [
    {
     "name": "stdout",
     "output_type": "stream",
     "text": [
      "+-----+-----------------+---+-------------------+-------+---------+-------------------+-----+----+--------------+--------------------+-----------+--------+------+--------------------+-----------+------+--------------+\n",
      "|  _c0|              _c1|_c2|                _c3|    _c4|      _c5|                _c6|  _c7| _c8|           _c9|                _c10|       _c11|    _c12|  _c13|                _c14|       _c15|  _c16|          _c17|\n",
      "+-----+-----------------+---+-------------------+-------+---------+-------------------+-----+----+--------------+--------------------+-----------+--------+------+--------------------+-----------+------+--------------+\n",
      "|   ID|             Name|Age|        Nationality|Overall|Potential|               Club|Value|Wage|Preferred Foot|International Rep...|Skill Moves|Position|Joined|Contract Valid Until|     Height|Weight|Release Clause|\n",
      "| 1179|        G. Buffon| 40|              Italy|     88|       88|Paris Saint-Germain| 4000|  77|         Right|                   4|          1|      GK|  2018|          01/01/2019|6.333333333|   203|          7400|\n",
      "| 5479|         Casillas| 37|              Spain|     82|       82|           FC Porto| 1500|  10|          Left|                   4|          1|    NULL|  2015|          01/01/2019|6.083333333|   185|          3000|\n",
      "| 8205|            Braga| 35|           Portugal|     70|       70|            CD Aves|  750|   5|         Right|                   1|          3|     LCM|  2017|          01/01/2019|5.916666667|   165|          1600|\n",
      "| 9014|        A. Robben| 34|        Netherlands|     84|       84|  FC Bayern München|15500| 110|          Left|                   4|          4|      RM|  2009|          01/01/2019|5.916666667|   176|         25600|\n",
      "|19521|        J. Ibehre| 35|            England|     61|       61|   Cambridge United|  120|   2|         Right|                   1|          2|      ST|  2017|          01/01/2019|6.333333333|   203|           210|\n",
      "|20209|    Ricardo Costa| 37|           Portugal|     74|       74|         CD Tondela|  750|   4|         Right|                   2|          2|     LCB|  2017|          01/01/2019|          6|   181|          1600|\n",
      "|20801|Cristiano Ronaldo| 33|           Portugal|     94|       94|           Juventus|77000| 405|         Right|                   5|          5|      ST|  2018|          01/01/2022|6.166666667|   183|        127100|\n",
      "|24630|       Pepe Reina| 35|              Spain|     83|       83|              Milan| 6000|  56|         Right|                   3|          1|      GK|  2018|                NULL|6.166666667|   203|         10200|\n",
      "|27532|      D. de Vries| 37|        Netherlands|     66|       66|             Celtic|   40|   7|         Right|                   1|          1|      GK|  2016|          01/01/2019|       6.25|   212|            72|\n",
      "|45083|    S. von Bergen| 35|        Switzerland|     73|       73|     BSC Young Boys|  950|  12|         Right|                   2|          2|     LCB|  2013|          01/01/2022|          6|   174|          1400|\n",
      "|46175|     M. Rosenberg| 35|             Sweden|     73|       73|           Malmö FF| 1800|   6|         Right|                   1|          3|      RS|  2014|          01/01/2020|          6|   179|          2400|\n",
      "|47201|         S. Proto| 35|            Belgium|     76|       76|              Lazio| 1800|  20|         Right|                   2|          1|      GK|  2018|          01/01/2021|          6|   163|          3100|\n",
      "|48940|          P. Čech| 36|     Czech Republic|     82|       82|            Arsenal| 3000|  60|          Left|                   4|          1|    NULL|  2015|          01/01/2019|6.416666667|   198|          5700|\n",
      "|52498|       M. Lehmann| 35|            Germany|     72|       72|         1. FC Köln|  725|  10|         Right|                   2|          2|     CDM|  2012|          01/01/2019|5.833333333|   165|          1100|\n",
      "|52679|        J. Murphy| 36|Republic of Ireland|     62|       62|               Bury|   40|   1|          Left|                   1|          1|      GK|  2017|          01/01/2019|6.166666667|   194|            70|\n",
      "|53110|        C. Gordon| 35|           Scotland|     74|       74|             Celtic| 1300|  20|          Left|                   2|          1|      GK|  2014|          01/01/2020|6.333333333|   183|          2400|\n",
      "|53302|      D. De Rossi| 34|              Italy|     83|       83|               Roma| 8000|  80|         Right|                   3|          2|     RDM|  2002|                NULL|          6|   183|         13600|\n",
      "|53363|        A. Collin| 33|            England|     62|       62|    Carlisle United|  150|   2|         Right|                   1|          1|      GK|  2018|          01/01/2019|       6.25|   172|           263|\n",
      "|53739|         L. Grant| 35|            England|     74|       74|  Manchester United| 1300|  39|         Right|                   1|          1|      GK|  2018|          01/01/2020|6.333333333|   183|          2500|\n",
      "+-----+-----------------+---+-------------------+-------+---------+-------------------+-----+----+--------------+--------------------+-----------+--------+------+--------------------+-----------+------+--------------+\n",
      "only showing top 20 rows\n",
      "\n"
     ]
    }
   ],
   "source": [
    "data.show()"
   ]
  },
  {
   "cell_type": "code",
   "execution_count": 584,
   "metadata": {},
   "outputs": [],
   "source": [
    "parser = spark.read.option(\"header\", \"true\").option(\"nullValue\", \"?\").option(\"inferSchema\", \"true\").csv(\"data/fifa_s2.csv\")"
   ]
  },
  {
   "cell_type": "code",
   "execution_count": 585,
   "metadata": {},
   "outputs": [
    {
     "name": "stdout",
     "output_type": "stream",
     "text": [
      "root\n",
      " |-- ID: integer (nullable = true)\n",
      " |-- Name: string (nullable = true)\n",
      " |-- Age: integer (nullable = true)\n",
      " |-- Nationality: string (nullable = true)\n",
      " |-- Overall: integer (nullable = true)\n",
      " |-- Potential: integer (nullable = true)\n",
      " |-- Club: string (nullable = true)\n",
      " |-- Value: integer (nullable = true)\n",
      " |-- Wage: integer (nullable = true)\n",
      " |-- Preferred Foot: string (nullable = true)\n",
      " |-- International Reputation: integer (nullable = true)\n",
      " |-- Skill Moves: integer (nullable = true)\n",
      " |-- Position: string (nullable = true)\n",
      " |-- Joined: integer (nullable = true)\n",
      " |-- Contract Valid Until: string (nullable = true)\n",
      " |-- Height: double (nullable = true)\n",
      " |-- Weight: double (nullable = true)\n",
      " |-- Release Clause: double (nullable = true)\n",
      "\n"
     ]
    }
   ],
   "source": [
    "parser.printSchema()"
   ]
  },
  {
   "cell_type": "code",
   "execution_count": 586,
   "metadata": {},
   "outputs": [
    {
     "data": {
      "text/plain": [
       "[('ID', 'int'),\n",
       " ('Name', 'string'),\n",
       " ('Age', 'int'),\n",
       " ('Nationality', 'string'),\n",
       " ('Overall', 'int'),\n",
       " ('Potential', 'int'),\n",
       " ('Club', 'string'),\n",
       " ('Value', 'int'),\n",
       " ('Wage', 'int'),\n",
       " ('Preferred Foot', 'string'),\n",
       " ('International Reputation', 'int'),\n",
       " ('Skill Moves', 'int'),\n",
       " ('Position', 'string'),\n",
       " ('Joined', 'int'),\n",
       " ('Contract Valid Until', 'string'),\n",
       " ('Height', 'double'),\n",
       " ('Weight', 'double'),\n",
       " ('Release Clause', 'double')]"
      ]
     },
     "execution_count": 586,
     "metadata": {},
     "output_type": "execute_result"
    }
   ],
   "source": [
    "parser.dtypes"
   ]
  },
  {
   "cell_type": "code",
   "execution_count": 587,
   "metadata": {},
   "outputs": [
    {
     "data": {
      "text/plain": [
       "Row(ID=1179, Name='G. Buffon', Age=40, Nationality='Italy', Overall=88, Potential=88, Club='Paris Saint-Germain', Value=4000, Wage=77, Preferred Foot='Right', International Reputation=4, Skill Moves=1, Position='GK', Joined=2018, Contract Valid Until='01/01/2019', Height=6.333333333, Weight=203.0, Release Clause=7400.0)"
      ]
     },
     "execution_count": 587,
     "metadata": {},
     "output_type": "execute_result"
    }
   ],
   "source": [
    "parser.first()"
   ]
  },
  {
   "cell_type": "code",
   "execution_count": 588,
   "metadata": {},
   "outputs": [
    {
     "data": {
      "text/plain": [
       "2399"
      ]
     },
     "execution_count": 588,
     "metadata": {},
     "output_type": "execute_result"
    }
   ],
   "source": [
    "parser.count()"
   ]
  },
  {
   "cell_type": "code",
   "execution_count": 589,
   "metadata": {},
   "outputs": [
    {
     "name": "stdout",
     "output_type": "stream",
     "text": [
      "+-----+---------+---+-----------+-------+---------+-------------------+-----+----+--------------+------------------------+-----------+--------+------+--------------------+-----------+------+--------------+\n",
      "|   ID|     Name|Age|Nationality|Overall|Potential|               Club|Value|Wage|Preferred Foot|International Reputation|Skill Moves|Position|Joined|Contract Valid Until|     Height|Weight|Release Clause|\n",
      "+-----+---------+---+-----------+-------+---------+-------------------+-----+----+--------------+------------------------+-----------+--------+------+--------------------+-----------+------+--------------+\n",
      "| 1179|G. Buffon| 40|      Italy|     88|       88|Paris Saint-Germain| 4000|  77|         Right|                       4|          1|      GK|  2018|          01/01/2019|6.333333333| 203.0|        7400.0|\n",
      "| 5479| Casillas| 37|      Spain|     82|       82|           FC Porto| 1500|  10|          Left|                       4|          1|    NULL|  2015|          01/01/2019|6.083333333| 185.0|        3000.0|\n",
      "| 8205|    Braga| 35|   Portugal|     70|       70|            CD Aves|  750|   5|         Right|                       1|          3|     LCM|  2017|          01/01/2019|5.916666667| 165.0|        1600.0|\n",
      "| 9014|A. Robben| 34|Netherlands|     84|       84|  FC Bayern München|15500| 110|          Left|                       4|          4|      RM|  2009|          01/01/2019|5.916666667| 176.0|       25600.0|\n",
      "|19521|J. Ibehre| 35|    England|     61|       61|   Cambridge United|  120|   2|         Right|                       1|          2|      ST|  2017|          01/01/2019|6.333333333| 203.0|         210.0|\n",
      "+-----+---------+---+-----------+-------+---------+-------------------+-----+----+--------------+------------------------+-----------+--------+------+--------------------+-----------+------+--------------+\n",
      "only showing top 5 rows\n",
      "\n"
     ]
    }
   ],
   "source": [
    "parser.show(5)"
   ]
  },
  {
   "cell_type": "code",
   "execution_count": 590,
   "metadata": {},
   "outputs": [
    {
     "name": "stderr",
     "output_type": "stream",
     "text": [
      "24/12/09 22:49:35 WARN CacheManager: Asked to cache already cached data.\n"
     ]
    },
    {
     "data": {
      "text/plain": [
       "DataFrame[ID: int, Name: string, Age: int, Nationality: string, Overall: int, Potential: int, Club: string, Value: int, Wage: int, Preferred Foot: string, International Reputation: int, Skill Moves: int, Position: string, Joined: int, Contract Valid Until: string, Height: double, Weight: double, Release Clause: double]"
      ]
     },
     "execution_count": 590,
     "metadata": {},
     "output_type": "execute_result"
    }
   ],
   "source": [
    "parser.cache()"
   ]
  },
  {
   "cell_type": "code",
   "execution_count": 591,
   "metadata": {},
   "outputs": [
    {
     "name": "stdout",
     "output_type": "stream",
     "text": [
      "+-------+------------------+--------------+------------------+-----------+-----------------+-----------------+--------------------+-----------------+------------------+--------------+------------------------+------------------+--------+-----------------+--------------------+-------------------+------------------+------------------+\n",
      "|summary|                ID|          Name|               Age|Nationality|          Overall|        Potential|                Club|            Value|              Wage|Preferred Foot|International Reputation|       Skill Moves|Position|           Joined|Contract Valid Until|             Height|            Weight|    Release Clause|\n",
      "+-------+------------------+--------------+------------------+-----------+-----------------+-----------------+--------------------+-----------------+------------------+--------------+------------------------+------------------+--------+-----------------+--------------------+-------------------+------------------+------------------+\n",
      "|  count|              2399|          2399|              2399|       2392|             2399|             2399|                2158|             2142|              2399|          2399|                    2389|              2393|    2378|             2399|                2126|               2399|              2399|              2396|\n",
      "|   mean| 212033.6807002918|          NULL|25.213005418924553|       NULL|69.11504793664027|74.11504793664027|                NULL|5980.873015873016| 24.17882451021259|          NULL|      1.3084972791963165| 2.469703301295445|    NULL|2016.145894122551|                NULL| 5.9552996915347975| 166.8027823146311|10690.033498160967|\n",
      "| stddev|30549.399067781855|          NULL| 4.633622374537239|       NULL| 8.06019489665706| 7.19095689308118|                NULL|11963.42068075075|49.552098447013805|          NULL|      0.6871753855940241|0.8445312688746288|    NULL|2.085829014091081|                NULL|0.21924897108311894|15.241015406722685|21780.029323033592|\n",
      "|    min|              1179|    A. Acevedo|                16|    Albania|               47|               48|1. FC Heidenheim ...|               20|                 0|          Left|                       1|                 1|     CAM|             2000|          01/01/2018|               5.25|             121.0|              35.0|\n",
      "|    25%|            195086|          NULL|                22|       NULL|               64|               69|                NULL|              500|                 1|          NULL|                       1|                 2|    NULL|             2016|                NULL|        5.833333333|             154.0|            1100.0|\n",
      "|    50%|            218745|          NULL|                25|       NULL|               69|               74|                NULL|             1100|                 5|          NULL|                       1|                 2|    NULL|             2017|                NULL|                6.0|             165.0|            3800.0|\n",
      "|    75%|            234577|          NULL|                29|       NULL|               74|               79|                NULL|             6000|                22|          NULL|                       1|                 3|    NULL|             2018|                NULL|        6.083333333|             176.0|            7500.0|\n",
      "|    max|            246608|Óscar Valentín|                44|      Wales|               94|               95|             Udinese|           118500|               565|         Right|                       5|                 5|      ST|             2018|          31/12/2018|        6.583333333|             214.0|          228100.0|\n",
      "+-------+------------------+--------------+------------------+-----------+-----------------+-----------------+--------------------+-----------------+------------------+--------------+------------------------+------------------+--------+-----------------+--------------------+-------------------+------------------+------------------+\n",
      "\n"
     ]
    }
   ],
   "source": [
    "parser.summary().show()"
   ]
  },
  {
   "cell_type": "code",
   "execution_count": 592,
   "metadata": {},
   "outputs": [
    {
     "name": "stdout",
     "output_type": "stream",
     "text": [
      "+-------+------------------+--------------+------------------+-----------+-----------------+-----------------+--------------------+-----------------+------------------+--------------+------------------------+------------------+--------+-----------------+--------------------+-------------------+------------------+------------------+\n",
      "|summary|                ID|          Name|               Age|Nationality|          Overall|        Potential|                Club|            Value|              Wage|Preferred Foot|International Reputation|       Skill Moves|Position|           Joined|Contract Valid Until|             Height|            Weight|    Release Clause|\n",
      "+-------+------------------+--------------+------------------+-----------+-----------------+-----------------+--------------------+-----------------+------------------+--------------+------------------------+------------------+--------+-----------------+--------------------+-------------------+------------------+------------------+\n",
      "|  count|              2399|          2399|              2399|       2392|             2399|             2399|                2158|             2142|              2399|          2399|                    2389|              2393|    2378|             2399|                2126|               2399|              2399|              2396|\n",
      "|   mean| 212033.6807002918|          NULL|25.213005418924553|       NULL|69.11504793664027|74.11504793664027|                NULL|5980.873015873016| 24.17882451021259|          NULL|      1.3084972791963165| 2.469703301295445|    NULL|2016.145894122551|                NULL| 5.9552996915347975| 166.8027823146311|10690.033498160967|\n",
      "| stddev|30549.399067781855|          NULL| 4.633622374537239|       NULL| 8.06019489665706| 7.19095689308118|                NULL|11963.42068075075|49.552098447013805|          NULL|      0.6871753855940241|0.8445312688746288|    NULL|2.085829014091081|                NULL|0.21924897108311894|15.241015406722685|21780.029323033592|\n",
      "|    min|              1179|    A. Acevedo|                16|    Albania|               47|               48|1. FC Heidenheim ...|               20|                 0|          Left|                       1|                 1|     CAM|             2000|          01/01/2018|               5.25|             121.0|              35.0|\n",
      "|    max|            246608|Óscar Valentín|                44|      Wales|               94|               95|             Udinese|           118500|               565|         Right|                       5|                 5|      ST|             2018|          31/12/2018|        6.583333333|             214.0|          228100.0|\n",
      "+-------+------------------+--------------+------------------+-----------+-----------------+-----------------+--------------------+-----------------+------------------+--------------+------------------------+------------------+--------+-----------------+--------------------+-------------------+------------------+------------------+\n",
      "\n"
     ]
    }
   ],
   "source": [
    "parser.describe().show()"
   ]
  },
  {
   "cell_type": "code",
   "execution_count": 593,
   "metadata": {},
   "outputs": [],
   "source": [
    "data = parser"
   ]
  },
  {
   "cell_type": "code",
   "execution_count": 594,
   "metadata": {},
   "outputs": [
    {
     "data": {
      "text/plain": [
       "2399"
      ]
     },
     "execution_count": 594,
     "metadata": {},
     "output_type": "execute_result"
    }
   ],
   "source": [
    "data = data.withColumn(\"name\", lower(\"Name\"))\n",
    "data = data.withColumn(\"nationality\", lower(\"Nationality\"))\n",
    "data = data.withColumn(\"club\", lower(\"Club\"))\n",
    "data = data.withColumn(\"preferred foot\", lower(\"Preferred Foot\"))\n",
    "data = data.withColumn(\"position\", lower(\"Position\"))\n",
    "data.count()"
   ]
  },
  {
   "cell_type": "code",
   "execution_count": 595,
   "metadata": {},
   "outputs": [
    {
     "data": {
      "text/plain": [
       "ID                            0\n",
       "name                          0\n",
       "Age                           0\n",
       "nationality                   7\n",
       "Overall                       0\n",
       "Potential                     0\n",
       "club                        241\n",
       "Value                       257\n",
       "Wage                          0\n",
       "preferred foot                0\n",
       "International Reputation     10\n",
       "Skill Moves                   6\n",
       "position                     21\n",
       "Joined                        0\n",
       "Contract Valid Until        273\n",
       "Height                        0\n",
       "Weight                        0\n",
       "Release Clause                3\n",
       "dtype: int64"
      ]
     },
     "execution_count": 595,
     "metadata": {},
     "output_type": "execute_result"
    }
   ],
   "source": [
    "data.toPandas().isna().sum()"
   ]
  },
  {
   "cell_type": "code",
   "execution_count": 596,
   "metadata": {},
   "outputs": [
    {
     "name": "stdout",
     "output_type": "stream",
     "text": [
      "+------+-------------+---+-----------+-------+---------+--------------------+-----+----+--------------+------------------------+-----------+--------+------+--------------------+-----------+------+--------------+\n",
      "|    ID|         name|Age|nationality|Overall|Potential|                club|Value|Wage|preferred foot|International Reputation|Skill Moves|position|Joined|Contract Valid Until|     Height|Weight|Release Clause|\n",
      "+------+-------------+---+-----------+-------+---------+--------------------+-----+----+--------------+------------------------+-----------+--------+------+--------------------+-----------+------+--------------+\n",
      "|156432|    g. hoarau| 34|       NULL|     77|       77|      bsc young boys| 4700|  26|         right|                       2|          3|      ls|  2014|          01/01/2020|6.333333333| 187.0|        7000.0|\n",
      "|186146|   d. welbeck| 27|       NULL|     77|       77|             arsenal| 9500|  95|         right|                       3|          3|      lw|  2014|          01/01/2019|6.083333333| 161.0|       18100.0|\n",
      "|207894|    t. strobl| 28|       NULL|     77|       77|borussia möncheng...| 7000|  27|         right|                       2|          2|     cdm|  2016|          01/01/2020|6.166666667| 170.0|       11900.0|\n",
      "|219411| j. izquierdo| 25|       NULL|     77|       78|brighton & hove a...|10500|  45|         right|                       2|          4|      lm|  2017|          01/01/2021|5.583333333| 165.0|       20700.0|\n",
      "|227476|       soares| 27|       NULL|     78|       79|            fc porto|12000|  17|         right|                       1|          3|      ls|  2017|          01/01/2021|6.166666667| 181.0|       24900.0|\n",
      "|228251|l. pellegrini| 22|       NULL|     78|       84|                roma|14000|  51|         right|                       2|          3|      cm|  2017|          01/01/2022|6.083333333| 170.0|       26600.0|\n",
      "|228881|  d. calabria| 21|       NULL|     78|       88|               milan|14500|  52|         right|                       1|          3|      rb|  2015|          01/01/2022|       5.75| 154.0|       27600.0|\n",
      "+------+-------------+---+-----------+-------+---------+--------------------+-----+----+--------------+------------------------+-----------+--------+------+--------------------+-----------+------+--------------+\n",
      "\n"
     ]
    }
   ],
   "source": [
    "data.filter(data.nationality.isNull()).show()"
   ]
  },
  {
   "cell_type": "code",
   "execution_count": 597,
   "metadata": {},
   "outputs": [],
   "source": [
    "data = data.fillna(value='unknown', subset=['nationality','club','position', 'Contract Valid Until'])\n",
    "data = data.fillna(value=0, subset=['Value'])"
   ]
  },
  {
   "cell_type": "code",
   "execution_count": 598,
   "metadata": {},
   "outputs": [
    {
     "name": "stdout",
     "output_type": "stream",
     "text": [
      "+------------------------+\n",
      "|International Reputation|\n",
      "+------------------------+\n",
      "|                       1|\n",
      "|                       3|\n",
      "|                       5|\n",
      "|                       4|\n",
      "|                       2|\n",
      "|                    NULL|\n",
      "+------------------------+\n",
      "\n"
     ]
    }
   ],
   "source": [
    "data.select('International Reputation').distinct().show()"
   ]
  },
  {
   "cell_type": "code",
   "execution_count": 599,
   "metadata": {},
   "outputs": [],
   "source": [
    "data = data.fillna(value=0, subset=['International Reputation'])"
   ]
  },
  {
   "cell_type": "code",
   "execution_count": 600,
   "metadata": {},
   "outputs": [
    {
     "name": "stdout",
     "output_type": "stream",
     "text": [
      "+-----------+\n",
      "|Skill Moves|\n",
      "+-----------+\n",
      "|          1|\n",
      "|          3|\n",
      "|          5|\n",
      "|          4|\n",
      "|          2|\n",
      "|       NULL|\n",
      "+-----------+\n",
      "\n"
     ]
    }
   ],
   "source": [
    "data.select('Skill Moves').distinct().show()"
   ]
  },
  {
   "cell_type": "code",
   "execution_count": 601,
   "metadata": {},
   "outputs": [],
   "source": [
    "data = data.fillna(value=0, subset=['Skill Moves'])"
   ]
  },
  {
   "cell_type": "code",
   "execution_count": 602,
   "metadata": {},
   "outputs": [
    {
     "name": "stdout",
     "output_type": "stream",
     "text": [
      "+--------------+\n",
      "|Release Clause|\n",
      "+--------------+\n",
      "|        4800.0|\n",
      "|         596.0|\n",
      "|   4585.060806|\n",
      "|         934.0|\n",
      "|         305.0|\n",
      "|       56400.0|\n",
      "|         810.0|\n",
      "|       18400.0|\n",
      "|         170.0|\n",
      "|         720.0|\n",
      "|       10300.0|\n",
      "|         608.0|\n",
      "|       60200.0|\n",
      "|         735.0|\n",
      "|       90000.0|\n",
      "|          70.0|\n",
      "|         878.0|\n",
      "|       16800.0|\n",
      "|         311.0|\n",
      "|       12600.0|\n",
      "+--------------+\n",
      "only showing top 20 rows\n",
      "\n"
     ]
    }
   ],
   "source": [
    "data.select('Release Clause').distinct().show()"
   ]
  },
  {
   "cell_type": "code",
   "execution_count": 603,
   "metadata": {},
   "outputs": [],
   "source": [
    "data = data.fillna(value=0, subset=['Release Clause'])"
   ]
  },
  {
   "cell_type": "code",
   "execution_count": 604,
   "metadata": {},
   "outputs": [
    {
     "data": {
      "text/plain": [
       "ID                          0\n",
       "name                        0\n",
       "Age                         0\n",
       "nationality                 0\n",
       "Overall                     0\n",
       "Potential                   0\n",
       "club                        0\n",
       "Value                       0\n",
       "Wage                        0\n",
       "preferred foot              0\n",
       "International Reputation    0\n",
       "Skill Moves                 0\n",
       "position                    0\n",
       "Joined                      0\n",
       "Contract Valid Until        0\n",
       "Height                      0\n",
       "Weight                      0\n",
       "Release Clause              0\n",
       "dtype: int64"
      ]
     },
     "execution_count": 604,
     "metadata": {},
     "output_type": "execute_result"
    }
   ],
   "source": [
    "data.toPandas().isna().sum()"
   ]
  },
  {
   "cell_type": "code",
   "execution_count": 605,
   "metadata": {},
   "outputs": [
    {
     "data": {
      "text/plain": [
       "2399"
      ]
     },
     "execution_count": 605,
     "metadata": {},
     "output_type": "execute_result"
    }
   ],
   "source": [
    "data.count()"
   ]
  },
  {
   "cell_type": "code",
   "execution_count": 606,
   "metadata": {},
   "outputs": [],
   "source": [
    "data = data.dropDuplicates()"
   ]
  },
  {
   "cell_type": "code",
   "execution_count": 607,
   "metadata": {},
   "outputs": [
    {
     "data": {
      "text/plain": [
       "2397"
      ]
     },
     "execution_count": 607,
     "metadata": {},
     "output_type": "execute_result"
    }
   ],
   "source": [
    "data.count()"
   ]
  },
  {
   "cell_type": "code",
   "execution_count": 608,
   "metadata": {},
   "outputs": [
    {
     "data": {
      "text/plain": [
       "81"
      ]
     },
     "execution_count": 608,
     "metadata": {},
     "output_type": "execute_result"
    }
   ],
   "source": [
    "data.select('club').distinct().count()"
   ]
  },
  {
   "cell_type": "code",
   "execution_count": 609,
   "metadata": {},
   "outputs": [],
   "source": [
    "list_club = data.select('club').distinct().sort('club').rdd.flatMap(list).collect()"
   ]
  },
  {
   "cell_type": "code",
   "execution_count": 610,
   "metadata": {},
   "outputs": [
    {
     "data": {
      "text/plain": [
       "['1. fc heidenheim 1846',\n",
       " '1. fc kaiserslautern',\n",
       " '1. fc köln',\n",
       " '1. fc magdeburg',\n",
       " '1. fc nürnberg',\n",
       " '1. fc union berlin',\n",
       " '1. fsv mainz 05',\n",
       " 'aalborg bk',\n",
       " 'arsenal',\n",
       " 'as béziers',\n",
       " 'as monaco',\n",
       " 'aston villa',\n",
       " 'atalanta',\n",
       " 'bayer 04 leverkusen',\n",
       " 'borussia dortmund',\n",
       " 'borussia mönchengladbach',\n",
       " 'brescia',\n",
       " 'brighton & hove albion',\n",
       " 'brisbane roar',\n",
       " 'bristol city',\n",
       " 'bristol rovers',\n",
       " 'bsc young boys',\n",
       " 'burnley',\n",
       " 'bursaspor',\n",
       " 'burton albion',\n",
       " 'bury',\n",
       " 'ca osasuna',\n",
       " 'cagliari',\n",
       " 'cambridge united',\n",
       " 'cardiff city',\n",
       " 'carlisle united',\n",
       " 'carpi',\n",
       " 'cd antofagasta',\n",
       " 'cd aves',\n",
       " 'cd everton de viña del mar',\n",
       " 'cd feirense',\n",
       " 'cd huachipato',\n",
       " 'cd leganés',\n",
       " 'cd lugo',\n",
       " 'cd nacional',\n",
       " 'cd numancia',\n",
       " \"cd o'higgins\",\n",
       " 'cd palestino',\n",
       " 'cd tenerife',\n",
       " 'cd tondela',\n",
       " 'cd universidad de concepción',\n",
       " 'ceará sporting club',\n",
       " 'celtic',\n",
       " 'central coast mariners',\n",
       " 'cerezo osaka',\n",
       " 'cf rayo majadahonda',\n",
       " 'cf reus deportiu',\n",
       " 'chamois niortais football club',\n",
       " 'changchun yatai fc',\n",
       " 'chapecoense',\n",
       " 'charlton athletic',\n",
       " 'chelsea',\n",
       " 'cádiz cf',\n",
       " 'córdoba cf',\n",
       " 'fc barcelona',\n",
       " 'fc basel 1893',\n",
       " 'fc bayern münchen',\n",
       " 'fc heidenheim 1846',\n",
       " 'fc köln',\n",
       " 'fc porto',\n",
       " 'inter',\n",
       " 'juventus',\n",
       " 'lazio',\n",
       " 'liverpool',\n",
       " 'livingston fc',\n",
       " 'lokomotiv moscow',\n",
       " 'malmö ff',\n",
       " 'manchester city',\n",
       " 'manchester united',\n",
       " 'milan',\n",
       " 'paris saint-germain',\n",
       " 'real madrid',\n",
       " 'roma',\n",
       " 'sevilla fc',\n",
       " 'udinese',\n",
       " 'unknown']"
      ]
     },
     "execution_count": 610,
     "metadata": {},
     "output_type": "execute_result"
    }
   ],
   "source": [
    "list_club"
   ]
  },
  {
   "cell_type": "code",
   "execution_count": 611,
   "metadata": {},
   "outputs": [],
   "source": [
    "def group_age(age):\n",
    "    if age<20:\n",
    "        return 1\n",
    "    elif 20 <= age <= 30:\n",
    "        return 2\n",
    "    elif 30 < age <=36:\n",
    "        return 3\n",
    "    elif age > 36:\n",
    "        return 4"
   ]
  },
  {
   "cell_type": "code",
   "execution_count": 612,
   "metadata": {},
   "outputs": [],
   "source": [
    "age_fun = udf(lambda x: group_age(x), IntegerType())"
   ]
  },
  {
   "cell_type": "code",
   "execution_count": 613,
   "metadata": {},
   "outputs": [],
   "source": [
    "data = data.withColumn('age_grup', age_fun(col('Age')))"
   ]
  },
  {
   "cell_type": "code",
   "execution_count": 614,
   "metadata": {},
   "outputs": [
    {
     "name": "stdout",
     "output_type": "stream",
     "text": [
      "+---+--------+\n",
      "|Age|age_grup|\n",
      "+---+--------+\n",
      "| 33|       3|\n",
      "| 32|       3|\n",
      "| 28|       2|\n",
      "| 28|       2|\n",
      "| 25|       2|\n",
      "| 23|       2|\n",
      "| 18|       1|\n",
      "| 20|       2|\n",
      "| 23|       2|\n",
      "| 35|       3|\n",
      "+---+--------+\n",
      "only showing top 10 rows\n",
      "\n"
     ]
    }
   ],
   "source": [
    "data.select('Age', 'age_grup').show(10)"
   ]
  },
  {
   "cell_type": "code",
   "execution_count": 615,
   "metadata": {},
   "outputs": [
    {
     "name": "stdout",
     "output_type": "stream",
     "text": [
      "+--------+-----+\n",
      "|age_grup|count|\n",
      "+--------+-----+\n",
      "|       4|   15|\n",
      "|       1|  270|\n",
      "|       3|  339|\n",
      "|       2| 1773|\n",
      "+--------+-----+\n",
      "\n"
     ]
    }
   ],
   "source": [
    "data.select('age_grup').groupBy('age_grup').count().sort('count').show()"
   ]
  }
 ],
 "metadata": {
  "kernelspec": {
   "display_name": "venv",
   "language": "python",
   "name": "python3"
  },
  "language_info": {
   "codemirror_mode": {
    "name": "ipython",
    "version": 3
   },
   "file_extension": ".py",
   "mimetype": "text/x-python",
   "name": "python",
   "nbconvert_exporter": "python",
   "pygments_lexer": "ipython3",
   "version": "3.10.12"
  }
 },
 "nbformat": 4,
 "nbformat_minor": 2
}
