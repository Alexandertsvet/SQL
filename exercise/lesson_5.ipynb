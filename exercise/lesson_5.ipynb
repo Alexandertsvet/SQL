{
 "cells": [
  {
   "cell_type": "code",
   "execution_count": 83,
   "metadata": {},
   "outputs": [],
   "source": [
    "import sqlite3\n",
    "import pandas as pd"
   ]
  },
  {
   "cell_type": "markdown",
   "metadata": {},
   "source": [
    "# Задание 1: Создание таблицы и изменение данных\n",
    "Задание: Создайте таблицу EmployeeDetails для хранения информации о\n",
    "сотрудниках. Таблица должна содержать следующие столбцы:\n",
    "* EmployeeID (INTEGER, PRIMARY KEY)\n",
    "* EmployeeName (TEXT)\n",
    "* Position (TEXT)\n",
    "* HireDate (DATE)\n",
    "* Salary (NUMERIC)\n",
    "После создания таблицы добавьте в неё три записи с произвольными данными о\n",
    "сотрудниках.\n",
    "\n",
    "Эталонное решение:\n",
    "-- Создание таблицы\n",
    "* CREATE TABLE EmployeeDetails (\n",
    "EmployeeID INTEGER PRIMARY KEY,\n",
    "EmployeeName TEXT,\n",
    "Position TEXT,\n",
    "HireDate DATE,\n",
    "Salary NUMERIC\n",
    ");\n",
    "-- Добавление данных\n",
    "* INSERT INTO EmployeeDetails (EmployeeID, EmployeeName, Position,\n",
    "HireDate, Salary) VALUES (1, 'John Smith', 'Sales Manager',\n",
    "'2022-01-15', 55000);\n",
    "INSERT INTO EmployeeDetails (EmployeeID, EmployeeName, Position,\n",
    "HireDate, Salary) VALUES (2, 'Jane Doe', 'Marketing Specialist',\n",
    "'2021-06-30', 48000);\n",
    "INSERT INTO EmployeeDetails (EmployeeID, EmployeeName, Position,\n",
    "HireDate, Salary) VALUES (3, 'Emily Johnson', 'Software Engineer',\n",
    "'2023-03-22', 65000);"
   ]
  },
  {
   "cell_type": "code",
   "execution_count": 84,
   "metadata": {},
   "outputs": [],
   "source": [
    "conn = sqlite3.connect(\"sqlite.db\")\n",
    "curs = conn.cursor()"
   ]
  },
  {
   "cell_type": "code",
   "execution_count": 85,
   "metadata": {},
   "outputs": [
    {
     "data": {
      "text/plain": [
       "<sqlite3.Cursor at 0x7fa8b5d7f2c0>"
      ]
     },
     "execution_count": 85,
     "metadata": {},
     "output_type": "execute_result"
    }
   ],
   "source": [
    "curs.execute(\"\"\"\n",
    "            CREATE TABLE IF NOT EXISTS EmployeeDetails (\n",
    "            EmployeeID INTEGER PRIMARY KEY,\n",
    "            EmployeeName TEXT,\n",
    "            Position TEXT,\n",
    "            HireDate DATE,\n",
    "            Salary NUMERIC\n",
    "            );\n",
    "            \"\"\")"
   ]
  },
  {
   "cell_type": "code",
   "execution_count": 86,
   "metadata": {},
   "outputs": [],
   "source": [
    "curs.execute(\"\"\"\n",
    "INSERT OR IGNORE INTO EmployeeDetails (EmployeeID, EmployeeName, Position,HireDate, Salary) VALUES \n",
    "(1, 'John Smith', 'Sales Manager','2022-01-15', 55000),\n",
    "(2, 'Jane Doe', 'Marketing Specialist','2021-06-30', 48000),\n",
    "(3, 'Emily Johnson', 'Software Engineer','2023-03-22', 65000);\n",
    "\"\"\")\n",
    "conn.commit()"
   ]
  },
  {
   "cell_type": "markdown",
   "metadata": {},
   "source": [
    "# Задание 2: Создание представления\n",
    "Задание: Создайте представление HighValueOrders для отображения всех заказов,\n",
    "сумма которых превышает 10000. В представлении должны быть следующие столбцы:\n",
    "● OrderID (идентификатор заказа),\n",
    "● OrderDate (дата заказа),\n",
    "● TotalAmount (общая сумма заказа, вычисленная как сумма всех Quantity *\n",
    "Price).\n",
    "Используйте таблицы Orders, OrderDetails и Products.\n",
    "Подсказки:\n",
    "1. Используйте JOIN для объединения таблиц.\n",
    "2. Используйте функцию SUM() для вычисления общей суммы заказа."
   ]
  },
  {
   "cell_type": "code",
   "execution_count": 87,
   "metadata": {},
   "outputs": [
    {
     "data": {
      "text/plain": [
       "'\\ncreate view HighValueOrders AS\\nselect \\no.\"OrderID\", \\no.\"OrderDate\", \\nSUM(od.\"Quantity\" * p.\"Price\") AS TotalAmount\\nFROM public.\"Orders\" o\\njoin public.\"OrderDetails\" od USING (\"OrderID\")\\njoin public.\"Products\" p using (\"ProductID\")\\nGROUP BY o.\"OrderID\", o.\"OrderDate\"\\nHAVING SUM(od.\"Quantity\" * p.\"Price\") > 10000;\\n'"
      ]
     },
     "execution_count": 87,
     "metadata": {},
     "output_type": "execute_result"
    }
   ],
   "source": [
    "\"\"\"\n",
    "create view HighValueOrders AS\n",
    "select o.\"OrderID\", o.\"OrderDate\", SUM(od.\"Quantity\" * p.\"Price\") AS TotalAmount\n",
    "FROM public.\"Orders\" o\n",
    "JOIN public.\"OrderDetails\" od ON o.\"OrderID\" = od.\"OrderID\"\n",
    "JOIN public.\"Products\" p ON od.\"ProductID\" = p.\"ProductID\"\n",
    "GROUP BY o.\"OrderID\", o.\"OrderDate\"\n",
    "HAVING SUM(od.\"Quantity\" * p.\"Price\") > 10000;\n",
    "\"\"\"\n",
    "\"\"\"\n",
    "create view HighValueOrders AS\n",
    "select \n",
    "o.\"OrderID\", \n",
    "o.\"OrderDate\", \n",
    "SUM(od.\"Quantity\" * p.\"Price\") AS TotalAmount\n",
    "FROM public.\"Orders\" o\n",
    "join public.\"OrderDetails\" od USING (\"OrderID\")\n",
    "join public.\"Products\" p using (\"ProductID\")\n",
    "GROUP BY o.\"OrderID\", o.\"OrderDate\"\n",
    "HAVING SUM(od.\"Quantity\" * p.\"Price\") > 10000;\n",
    "\"\"\""
   ]
  },
  {
   "cell_type": "markdown",
   "metadata": {},
   "source": [
    "# Задание 3: Удаление данных и таблиц\n",
    "Задание: Удалите все записи из таблицы EmployeeDetails, где Salary меньше\n",
    "50000. Затем удалите таблицу EmployeeDetails из базы данных.\n",
    "Подсказки:\n",
    "1. Используйте команду DELETE FROM для удаления данных.\n",
    "2. Используйте команду DROP TABLE для удаления таблицы.\n",
    "\n",
    "Эталонное решение:\n",
    "-- Удаление данных\n",
    "* DELETE FROM EmployeeDetails \n",
    "* WHERE Salary < 50000;\n",
    "-- Удаление таблицы\n",
    "* DROP TABLE EmployeeDetails;"
   ]
  },
  {
   "cell_type": "code",
   "execution_count": 88,
   "metadata": {},
   "outputs": [],
   "source": [
    "curs.execute(\"\"\"\n",
    "                DELETE FROM EmployeeDetails WHERE Salary < 50000;\n",
    "\"\"\")\n",
    "conn.commit()"
   ]
  },
  {
   "cell_type": "code",
   "execution_count": 89,
   "metadata": {},
   "outputs": [],
   "source": [
    "curs.execute(\"\"\"\n",
    "            DROP TABLE IF EXISTS EmployeeDetails;\n",
    "\"\"\")\n",
    "conn.commit()"
   ]
  },
  {
   "cell_type": "markdown",
   "metadata": {},
   "source": [
    "# Задание 4: Создание хранимой процедуры\n",
    "Задание: Создайте хранимую процедуру GetProductSales с одним параметром\n",
    "ProductID. Эта процедура должна возвращать список всех заказов, в которых\n",
    "участвует продукт с заданным ProductID, включая следующие столбцы:\n",
    "* OrderID (идентификатор заказа),\n",
    "* OrderDate (дата заказа),\n",
    "* CustomerID (идентификатор клиента).\n",
    "Подсказки:\n",
    "1. Используйте команду CREATE PROCEDURE для создания процедуры.\n",
    "2. Используйте JOIN для объединения таблиц и WHERE для фильтрации данных по\n",
    "ProductID\n",
    "\n",
    "\n",
    "Эталонное решение:\n",
    "* CREATE PROCEDURE GetProductSales(IN p_ProductID INTEGER)\n",
    "BEGIN\n",
    "* SELECT\n",
    "o.OrderID,\n",
    "o.OrderDate,\n",
    "o.CustomerID\n",
    "* FROM Orders o\n",
    "* JOIN OrderDetails od ON o.OrderID = od.OrderID\n",
    "* WHERE od.ProductID = p_ProductID;\n",
    "* END;"
   ]
  },
  {
   "cell_type": "code",
   "execution_count": null,
   "metadata": {},
   "outputs": [],
   "source": [
    "\"\"\"\n",
    "CREATE PROCEDURE GetProductSales(IN p_ProductID INTEGER)\n",
    "BEGIN\n",
    "    SELECT\n",
    "        o.\"OrderID\",\n",
    "        o.\"OrderDate\",\n",
    "        o.\"CustomerID\"\n",
    "    FROM \"Orders\" o\n",
    "    JOIN OrderDetails od USING (\"OrderID\")\n",
    "    WHERE od.\"ProductID\" = p_ProductID;\n",
    "END;\n",
    "\n",
    "CALL GetProductSales(75);\n",
    "\"\"\""
   ]
  },
  {
   "cell_type": "markdown",
   "metadata": {},
   "source": []
  }
 ],
 "metadata": {
  "kernelspec": {
   "display_name": "Python 3",
   "language": "python",
   "name": "python3"
  },
  "language_info": {
   "codemirror_mode": {
    "name": "ipython",
    "version": 3
   },
   "file_extension": ".py",
   "mimetype": "text/x-python",
   "name": "python",
   "nbconvert_exporter": "python",
   "pygments_lexer": "ipython3",
   "version": "3.10.12"
  }
 },
 "nbformat": 4,
 "nbformat_minor": 2
}
